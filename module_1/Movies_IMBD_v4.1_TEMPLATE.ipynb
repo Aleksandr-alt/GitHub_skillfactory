{
 "cells": [
  {
   "cell_type": "code",
   "execution_count": 1,
   "metadata": {
    "_cell_guid": "b1076dfc-b9ad-4769-8c92-a6c4dae69d19",
    "_uuid": "8f2839f25d086af736a60e9eeb907d3b93b6e0e5",
    "colab": {},
    "colab_type": "code",
    "id": "U2D2gTdJVp90"
   },
   "outputs": [],
   "source": [
    "import numpy as np\n",
    "import pandas as pd\n",
    "import seaborn as sns\n",
    "import matplotlib.pyplot as plt\n",
    "from collections import Counter"
   ]
  },
  {
   "cell_type": "code",
   "execution_count": 2,
   "metadata": {
    "_cell_guid": "79c7e3d0-c299-4dcb-8224-4455121ee9b0",
    "_uuid": "d629ff2d2480ee46fbb7e2d37f6b5fab8052498a",
    "colab": {},
    "colab_type": "code",
    "id": "oyGfxL3eVp9-",
    "scrolled": true
   },
   "outputs": [
    {
     "data": {
      "text/html": [
       "<div>\n",
       "<style scoped>\n",
       "    .dataframe tbody tr th:only-of-type {\n",
       "        vertical-align: middle;\n",
       "    }\n",
       "\n",
       "    .dataframe tbody tr th {\n",
       "        vertical-align: top;\n",
       "    }\n",
       "\n",
       "    .dataframe thead th {\n",
       "        text-align: right;\n",
       "    }\n",
       "</style>\n",
       "<table border=\"1\" class=\"dataframe\">\n",
       "  <thead>\n",
       "    <tr style=\"text-align: right;\">\n",
       "      <th></th>\n",
       "      <th>imdb_id</th>\n",
       "      <th>budget</th>\n",
       "      <th>revenue</th>\n",
       "      <th>original_title</th>\n",
       "      <th>cast</th>\n",
       "      <th>director</th>\n",
       "      <th>tagline</th>\n",
       "      <th>overview</th>\n",
       "      <th>runtime</th>\n",
       "      <th>genres</th>\n",
       "      <th>production_companies</th>\n",
       "      <th>release_date</th>\n",
       "      <th>vote_average</th>\n",
       "      <th>release_year</th>\n",
       "    </tr>\n",
       "  </thead>\n",
       "  <tbody>\n",
       "    <tr>\n",
       "      <th>83</th>\n",
       "      <td>tt0884732</td>\n",
       "      <td>23000000</td>\n",
       "      <td>79799880</td>\n",
       "      <td>The Wedding Ringer</td>\n",
       "      <td>Kevin Hart|Josh Gad|Kaley Cuoco|Affion Crocket...</td>\n",
       "      <td>Jeremy Garelick</td>\n",
       "      <td>He's the best man... money can buy.</td>\n",
       "      <td>Doug Harris is a loveable but socially awkward...</td>\n",
       "      <td>101</td>\n",
       "      <td>Comedy</td>\n",
       "      <td>Miramax Films|Screen Gems|LStar Capital</td>\n",
       "      <td>1/16/2015</td>\n",
       "      <td>6.5</td>\n",
       "      <td>2015</td>\n",
       "    </tr>\n",
       "    <tr>\n",
       "      <th>1008</th>\n",
       "      <td>tt1482459</td>\n",
       "      <td>70000000</td>\n",
       "      <td>348840316</td>\n",
       "      <td>The Lorax</td>\n",
       "      <td>Zac Efron|Danny DeVito|Taylor Swift|Ed Helms|R...</td>\n",
       "      <td>Chris Renaud|Kyle Balda</td>\n",
       "      <td>Meet The Original Force Of Nature</td>\n",
       "      <td>A 12-year-old boy searches for the one thing t...</td>\n",
       "      <td>86</td>\n",
       "      <td>Animation|Family</td>\n",
       "      <td>Universal Pictures|Illumination Entertainment</td>\n",
       "      <td>3/1/2012</td>\n",
       "      <td>6.3</td>\n",
       "      <td>2012</td>\n",
       "    </tr>\n",
       "    <tr>\n",
       "      <th>366</th>\n",
       "      <td>tt1263670</td>\n",
       "      <td>7000000</td>\n",
       "      <td>39462438</td>\n",
       "      <td>Crazy Heart</td>\n",
       "      <td>Jeff Bridges|Maggie Gyllenhaal|Colin Farrell|R...</td>\n",
       "      <td>Scott Cooper</td>\n",
       "      <td>The harder the life, the sweeter the song.</td>\n",
       "      <td>When reporter Jean Craddock interviews Bad Bla...</td>\n",
       "      <td>112</td>\n",
       "      <td>Drama|Music|Romance</td>\n",
       "      <td>Fox Searchlight Pictures|Butcher's Run Films|I...</td>\n",
       "      <td>12/16/2009</td>\n",
       "      <td>6.4</td>\n",
       "      <td>2009</td>\n",
       "    </tr>\n",
       "    <tr>\n",
       "      <th>483</th>\n",
       "      <td>tt1456941</td>\n",
       "      <td>27000000</td>\n",
       "      <td>16504936</td>\n",
       "      <td>Tomorrow, When the War Began</td>\n",
       "      <td>Caitlin Stasey|Rachel Hurd-Wood|Phoebe Tonkin|...</td>\n",
       "      <td>Stuart Beattie</td>\n",
       "      <td>Where were you when everything changed?</td>\n",
       "      <td>Ellie Linton, a teen from an Australian coasta...</td>\n",
       "      <td>103</td>\n",
       "      <td>Action|Adventure|Drama</td>\n",
       "      <td>Omnilab Media|Ambience Entertainment</td>\n",
       "      <td>8/8/2010</td>\n",
       "      <td>6.5</td>\n",
       "      <td>2010</td>\n",
       "    </tr>\n",
       "    <tr>\n",
       "      <th>37</th>\n",
       "      <td>tt2381111</td>\n",
       "      <td>11000000</td>\n",
       "      <td>62076141</td>\n",
       "      <td>Brooklyn</td>\n",
       "      <td>Saoirse Ronan|Domhnall Gleeson|Emory Cohen|Emi...</td>\n",
       "      <td>John Crowley</td>\n",
       "      <td>Two countries, two loves, one heart</td>\n",
       "      <td>In 1950s Ireland and New York, young Ellis Lac...</td>\n",
       "      <td>111</td>\n",
       "      <td>Drama|Romance</td>\n",
       "      <td>Wildgaze Films|Irish Film Board|Item 7|Paralle...</td>\n",
       "      <td>11/4/2015</td>\n",
       "      <td>7.3</td>\n",
       "      <td>2015</td>\n",
       "    </tr>\n",
       "  </tbody>\n",
       "</table>\n",
       "</div>"
      ],
      "text/plain": [
       "        imdb_id    budget    revenue                original_title  \\\n",
       "83    tt0884732  23000000   79799880            The Wedding Ringer   \n",
       "1008  tt1482459  70000000  348840316                     The Lorax   \n",
       "366   tt1263670   7000000   39462438                   Crazy Heart   \n",
       "483   tt1456941  27000000   16504936  Tomorrow, When the War Began   \n",
       "37    tt2381111  11000000   62076141                      Brooklyn   \n",
       "\n",
       "                                                   cast  \\\n",
       "83    Kevin Hart|Josh Gad|Kaley Cuoco|Affion Crocket...   \n",
       "1008  Zac Efron|Danny DeVito|Taylor Swift|Ed Helms|R...   \n",
       "366   Jeff Bridges|Maggie Gyllenhaal|Colin Farrell|R...   \n",
       "483   Caitlin Stasey|Rachel Hurd-Wood|Phoebe Tonkin|...   \n",
       "37    Saoirse Ronan|Domhnall Gleeson|Emory Cohen|Emi...   \n",
       "\n",
       "                     director                                     tagline  \\\n",
       "83            Jeremy Garelick         He's the best man... money can buy.   \n",
       "1008  Chris Renaud|Kyle Balda           Meet The Original Force Of Nature   \n",
       "366              Scott Cooper  The harder the life, the sweeter the song.   \n",
       "483            Stuart Beattie     Where were you when everything changed?   \n",
       "37               John Crowley         Two countries, two loves, one heart   \n",
       "\n",
       "                                               overview  runtime  \\\n",
       "83    Doug Harris is a loveable but socially awkward...      101   \n",
       "1008  A 12-year-old boy searches for the one thing t...       86   \n",
       "366   When reporter Jean Craddock interviews Bad Bla...      112   \n",
       "483   Ellie Linton, a teen from an Australian coasta...      103   \n",
       "37    In 1950s Ireland and New York, young Ellis Lac...      111   \n",
       "\n",
       "                      genres  \\\n",
       "83                    Comedy   \n",
       "1008        Animation|Family   \n",
       "366      Drama|Music|Romance   \n",
       "483   Action|Adventure|Drama   \n",
       "37             Drama|Romance   \n",
       "\n",
       "                                   production_companies release_date  \\\n",
       "83              Miramax Films|Screen Gems|LStar Capital    1/16/2015   \n",
       "1008      Universal Pictures|Illumination Entertainment     3/1/2012   \n",
       "366   Fox Searchlight Pictures|Butcher's Run Films|I...   12/16/2009   \n",
       "483                Omnilab Media|Ambience Entertainment     8/8/2010   \n",
       "37    Wildgaze Films|Irish Film Board|Item 7|Paralle...    11/4/2015   \n",
       "\n",
       "      vote_average  release_year  \n",
       "83             6.5          2015  \n",
       "1008           6.3          2012  \n",
       "366            6.4          2009  \n",
       "483            6.5          2010  \n",
       "37             7.3          2015  "
      ]
     },
     "execution_count": 2,
     "metadata": {},
     "output_type": "execute_result"
    }
   ],
   "source": [
    "data = pd.read_csv('movie_bd_v5.csv')\n",
    "data.sample(5)"
   ]
  },
  {
   "cell_type": "code",
   "execution_count": 3,
   "metadata": {
    "colab": {},
    "colab_type": "code",
    "id": "CoYUnagMVp-C"
   },
   "outputs": [
    {
     "data": {
      "text/html": [
       "<div>\n",
       "<style scoped>\n",
       "    .dataframe tbody tr th:only-of-type {\n",
       "        vertical-align: middle;\n",
       "    }\n",
       "\n",
       "    .dataframe tbody tr th {\n",
       "        vertical-align: top;\n",
       "    }\n",
       "\n",
       "    .dataframe thead th {\n",
       "        text-align: right;\n",
       "    }\n",
       "</style>\n",
       "<table border=\"1\" class=\"dataframe\">\n",
       "  <thead>\n",
       "    <tr style=\"text-align: right;\">\n",
       "      <th></th>\n",
       "      <th>budget</th>\n",
       "      <th>revenue</th>\n",
       "      <th>runtime</th>\n",
       "      <th>vote_average</th>\n",
       "      <th>release_year</th>\n",
       "    </tr>\n",
       "  </thead>\n",
       "  <tbody>\n",
       "    <tr>\n",
       "      <th>count</th>\n",
       "      <td>1.889000e+03</td>\n",
       "      <td>1.889000e+03</td>\n",
       "      <td>1889.000000</td>\n",
       "      <td>1889.000000</td>\n",
       "      <td>1889.000000</td>\n",
       "    </tr>\n",
       "    <tr>\n",
       "      <th>mean</th>\n",
       "      <td>5.431083e+07</td>\n",
       "      <td>1.553653e+08</td>\n",
       "      <td>109.658549</td>\n",
       "      <td>6.140762</td>\n",
       "      <td>2007.860773</td>\n",
       "    </tr>\n",
       "    <tr>\n",
       "      <th>std</th>\n",
       "      <td>4.858721e+07</td>\n",
       "      <td>2.146698e+08</td>\n",
       "      <td>18.017041</td>\n",
       "      <td>0.764763</td>\n",
       "      <td>4.468841</td>\n",
       "    </tr>\n",
       "    <tr>\n",
       "      <th>min</th>\n",
       "      <td>5.000000e+06</td>\n",
       "      <td>2.033165e+06</td>\n",
       "      <td>63.000000</td>\n",
       "      <td>3.300000</td>\n",
       "      <td>2000.000000</td>\n",
       "    </tr>\n",
       "    <tr>\n",
       "      <th>25%</th>\n",
       "      <td>2.000000e+07</td>\n",
       "      <td>3.456058e+07</td>\n",
       "      <td>97.000000</td>\n",
       "      <td>5.600000</td>\n",
       "      <td>2004.000000</td>\n",
       "    </tr>\n",
       "    <tr>\n",
       "      <th>50%</th>\n",
       "      <td>3.800000e+07</td>\n",
       "      <td>8.361541e+07</td>\n",
       "      <td>107.000000</td>\n",
       "      <td>6.100000</td>\n",
       "      <td>2008.000000</td>\n",
       "    </tr>\n",
       "    <tr>\n",
       "      <th>75%</th>\n",
       "      <td>7.200000e+07</td>\n",
       "      <td>1.782626e+08</td>\n",
       "      <td>120.000000</td>\n",
       "      <td>6.600000</td>\n",
       "      <td>2012.000000</td>\n",
       "    </tr>\n",
       "    <tr>\n",
       "      <th>max</th>\n",
       "      <td>3.800000e+08</td>\n",
       "      <td>2.781506e+09</td>\n",
       "      <td>214.000000</td>\n",
       "      <td>8.100000</td>\n",
       "      <td>2015.000000</td>\n",
       "    </tr>\n",
       "  </tbody>\n",
       "</table>\n",
       "</div>"
      ],
      "text/plain": [
       "             budget       revenue      runtime  vote_average  release_year\n",
       "count  1.889000e+03  1.889000e+03  1889.000000   1889.000000   1889.000000\n",
       "mean   5.431083e+07  1.553653e+08   109.658549      6.140762   2007.860773\n",
       "std    4.858721e+07  2.146698e+08    18.017041      0.764763      4.468841\n",
       "min    5.000000e+06  2.033165e+06    63.000000      3.300000   2000.000000\n",
       "25%    2.000000e+07  3.456058e+07    97.000000      5.600000   2004.000000\n",
       "50%    3.800000e+07  8.361541e+07   107.000000      6.100000   2008.000000\n",
       "75%    7.200000e+07  1.782626e+08   120.000000      6.600000   2012.000000\n",
       "max    3.800000e+08  2.781506e+09   214.000000      8.100000   2015.000000"
      ]
     },
     "execution_count": 3,
     "metadata": {},
     "output_type": "execute_result"
    }
   ],
   "source": [
    "data.describe()"
   ]
  },
  {
   "cell_type": "markdown",
   "metadata": {
    "colab_type": "text",
    "id": "DTIt7ezGVp-G"
   },
   "source": [
    "# Предобработка"
   ]
  },
  {
   "cell_type": "code",
   "execution_count": 59,
   "metadata": {
    "colab": {},
    "colab_type": "code",
    "id": "jNb40DwKVp-H"
   },
   "outputs": [],
   "source": [
    "answers = {} # создадим словарь для ответов\n",
    "\n",
    "# тут другие ваши предобработки колонок например:\n",
    "\n",
    "#the time given in the dataset is in string format.\n",
    "#So we need to change this in datetime format\n",
    "\n",
    "import collections # Импортируем модуль для работы со счётчиками.\n",
    "\n",
    "def keep_month(s, d):\n",
    "    \"\"\"Функция делит строку на 2 части по разделителю и возвращает первую часть.\"\"\"\n",
    "    head, sep, tail = s.partition(d)\n",
    "    return head\n",
    "\n",
    "def count_word(s):\n",
    "    \"\"\"Функция считает в строке количество слов, разделённых пробелом.\"\"\"\n",
    "    a = s.split(' ')\n",
    "    return len(a)\n",
    "\n",
    "data['profit'] = data['revenue'] - data['budget'] # Рассчитаем и добавим в таблицу столбец значений прибыли фильмов."
   ]
  },
  {
   "cell_type": "markdown",
   "metadata": {
    "colab_type": "text",
    "id": "YxZaH-nPVp-L"
   },
   "source": [
    "# 1. У какого фильма из списка самый большой бюджет?"
   ]
  },
  {
   "cell_type": "markdown",
   "metadata": {
    "colab_type": "text",
    "id": "Nd-G5gX6Vp-M"
   },
   "source": [
    "Использовать варианты ответов в коде решения запрещено.    \n",
    "Вы думаете и в жизни у вас будут варианты ответов?)"
   ]
  },
  {
   "cell_type": "code",
   "execution_count": 60,
   "metadata": {
    "colab": {},
    "colab_type": "code",
    "id": "uVnXAY5RVp-O"
   },
   "outputs": [],
   "source": [
    "# в словарь вставляем номер вопроса и ваш ответ на него\n",
    "# Пример: \n",
    "answers['1'] = '2. Spider-Man 3 (tt0413300)'\n",
    "# запишите свой вариант ответа\n",
    "answers['1'] = 'Pirates of the Caribbean: On Stranger Tides (tt1298650)' # +\n",
    "# если ответили верно, можете добавить комментарий со значком \"+\""
   ]
  },
  {
   "cell_type": "code",
   "execution_count": 6,
   "metadata": {
    "colab": {},
    "colab_type": "code",
    "id": "dZwb3m28Vp-S"
   },
   "outputs": [
    {
     "name": "stdout",
     "output_type": "stream",
     "text": [
      "Макс бюджет  380000000\n",
      "Фильм с самым большим бюджетом  Pirates of the Caribbean: On Stranger Tides\n"
     ]
    }
   ],
   "source": [
    "# тут пишем ваш код для решения данного вопроса:\n",
    "print('Макс бюджет ', data.budget.max())\n",
    "df_max_budget = data[data['budget'] == data.budget.max()]['original_title'] # Находим min значение.\n",
    "print('Фильм с самым большим бюджетом ', df_max_budget.values[0])"
   ]
  },
  {
   "cell_type": "markdown",
   "metadata": {
    "colab_type": "text",
    "id": "K7L3nbRXVp-X"
   },
   "source": [
    "ВАРИАНТ 2"
   ]
  },
  {
   "cell_type": "code",
   "execution_count": 0,
   "metadata": {
    "colab": {},
    "colab_type": "code",
    "id": "OGaoQI7rVp-X"
   },
   "outputs": [],
   "source": [
    "# можно добавлять разные варианты решения"
   ]
  },
  {
   "cell_type": "markdown",
   "metadata": {
    "colab_type": "text",
    "id": "FNRbbI3vVp-c"
   },
   "source": [
    "# 2. Какой из фильмов самый длительный (в минутах)?"
   ]
  },
  {
   "cell_type": "code",
   "execution_count": 61,
   "metadata": {
    "colab": {},
    "colab_type": "code",
    "id": "vHAoEXNTVp-d"
   },
   "outputs": [],
   "source": [
    "# думаю логику работы с этим словарем вы уже поняли, \n",
    "# по этому не буду больше его дублировать\n",
    "answers['2'] = 'Gods and Generals (tt0279111)' # +"
   ]
  },
  {
   "cell_type": "code",
   "execution_count": 8,
   "metadata": {
    "colab": {},
    "colab_type": "code",
    "id": "ot-VX2XrVp-g"
   },
   "outputs": [
    {
     "name": "stdout",
     "output_type": "stream",
     "text": [
      "Макс длительность  214\n",
      "Самый длительный фильм  Gods and Generals\n"
     ]
    }
   ],
   "source": [
    "# код для решения данного вопроса:\n",
    "print('Макс длительность ', data.runtime.max())\n",
    "df_max_runtime = data[data['runtime'] == data.runtime.max()]['original_title'] # Находим max значение.\n",
    "print('Самый длительный фильм ', df_max_runtime.values[0])"
   ]
  },
  {
   "cell_type": "markdown",
   "metadata": {
    "colab_type": "text",
    "id": "bapLlpW8Vp-k"
   },
   "source": [
    "# 3. Какой из фильмов самый короткий (в минутах)?\n",
    "\n",
    "\n",
    "\n"
   ]
  },
  {
   "cell_type": "code",
   "execution_count": 62,
   "metadata": {
    "colab": {},
    "colab_type": "code",
    "id": "YBxaSHuAVp-l"
   },
   "outputs": [
    {
     "name": "stdout",
     "output_type": "stream",
     "text": [
      "Мин длительность  63\n",
      "Самый короткий фильм  Winnie the Pooh\n"
     ]
    }
   ],
   "source": [
    "answers['3'] = 'Winnie the Pooh (tt1449283)' # +\n",
    "\n",
    "# код для решения данного вопроса:\n",
    "print('Мин длительность ', data.runtime.min())\n",
    "df_min_runtime = data[data['runtime'] == data.runtime.min()]['original_title'] # Находим min значение..\n",
    "print('Самый короткий фильм ', df_min_runtime.values[0])"
   ]
  },
  {
   "cell_type": "markdown",
   "metadata": {
    "colab_type": "text",
    "id": "TfQbxbfNVp-p"
   },
   "source": [
    "# 4. Какова средняя длительность фильмов?\n"
   ]
  },
  {
   "cell_type": "code",
   "execution_count": 63,
   "metadata": {
    "colab": {},
    "colab_type": "code",
    "id": "5K6dKZYVVp-q"
   },
   "outputs": [
    {
     "name": "stdout",
     "output_type": "stream",
     "text": [
      "Средняя длительность фильмов  110.0\n"
     ]
    }
   ],
   "source": [
    "answers['4'] = '110' # +\n",
    "\n",
    "# код для решения данного вопроса:\n",
    "print('Средняя длительность фильмов ', round(data.runtime.mean(), 0)) # Находим значение."
   ]
  },
  {
   "cell_type": "markdown",
   "metadata": {
    "colab_type": "text",
    "id": "r5TvbnT_Vp-u"
   },
   "source": [
    "# 5. Каково медианное значение длительности фильмов? "
   ]
  },
  {
   "cell_type": "code",
   "execution_count": 64,
   "metadata": {
    "colab": {},
    "colab_type": "code",
    "id": "iBROplKnVp-v"
   },
   "outputs": [
    {
     "name": "stdout",
     "output_type": "stream",
     "text": [
      "Медианное значение длительности фильмов  107\n"
     ]
    }
   ],
   "source": [
    "answers['5'] = '107' # +\n",
    "\n",
    "# код для решения данного вопроса:\n",
    "print('Медианное значение длительности фильмов ', round(data.runtime.median())) # Находим значение."
   ]
  },
  {
   "cell_type": "markdown",
   "metadata": {
    "colab_type": "text",
    "id": "39P-deDSVp-y"
   },
   "source": [
    "# 6. Какой самый прибыльный фильм?\n",
    "#### Внимание! Здесь и далее под «прибылью» или «убытками» понимается разность между сборами и бюджетом фильма. (прибыль = сборы - бюджет) в нашем датасете это будет (profit = revenue - budget) "
   ]
  },
  {
   "cell_type": "code",
   "execution_count": 65,
   "metadata": {
    "colab": {},
    "colab_type": "code",
    "id": "UYZh4T9WVp-y"
   },
   "outputs": [
    {
     "name": "stdout",
     "output_type": "stream",
     "text": [
      "Макс прибыль  2544505847\n",
      "Самый прибыльный фильм  Avatar\n"
     ]
    }
   ],
   "source": [
    "# лучше код получения столбца profit вынести в Предобработку что в начале\n",
    "answers['6'] = 'Avatar (tt0499549)' # +\n",
    "\n",
    "# код для решения данного вопроса:\n",
    "print('Макс прибыль ', data.profit.max())\n",
    "df_max_profit = data[data['profit'] == data.profit.max()]['original_title'] # Находим max значение.\n",
    "print('Самый прибыльный фильм ', df_max_profit.values[0])"
   ]
  },
  {
   "cell_type": "markdown",
   "metadata": {
    "colab_type": "text",
    "id": "M99JmIX4Vp-2"
   },
   "source": [
    "# 7. Какой фильм самый убыточный? "
   ]
  },
  {
   "cell_type": "code",
   "execution_count": 66,
   "metadata": {
    "colab": {},
    "colab_type": "code",
    "id": "w-D2m4XPVp-3"
   },
   "outputs": [
    {
     "name": "stdout",
     "output_type": "stream",
     "text": [
      "Мин прибыль  -165710090\n",
      "Самый убыточный фильм  The Lone Ranger\n"
     ]
    }
   ],
   "source": [
    "answers['7'] = 'The Lone Ranger (tt1210819)' # +\n",
    "\n",
    "# код для решения данного вопроса:\n",
    "print('Мин прибыль ', data.profit.min())\n",
    "df_min_profit = data[data['profit'] == data.profit.min()]['original_title'] # Находим min значение.\n",
    "print('Самый убыточный фильм ', df_min_profit.values[0])"
   ]
  },
  {
   "cell_type": "markdown",
   "metadata": {
    "colab_type": "text",
    "id": "wEOM5ERVVp-6"
   },
   "source": [
    "# 8. У скольких фильмов из датасета объем сборов оказался выше бюджета?"
   ]
  },
  {
   "cell_type": "code",
   "execution_count": 67,
   "metadata": {
    "colab": {},
    "colab_type": "code",
    "id": "y00_7HD6Vp-7"
   },
   "outputs": [
    {
     "name": "stdout",
     "output_type": "stream",
     "text": [
      "Количество прибыльных фильмов 1478\n"
     ]
    }
   ],
   "source": [
    "answers['8'] = '1478' # +\n",
    "\n",
    "# код для решения данного вопроса:\n",
    "print('Количество прибыльных фильмов', data[data['profit'] > 0].profit.count())"
   ]
  },
  {
   "cell_type": "markdown",
   "metadata": {
    "colab_type": "text",
    "id": "xhpspA9KVp_A"
   },
   "source": [
    "# 9. Какой фильм оказался самым кассовым в 2008 году?"
   ]
  },
  {
   "cell_type": "code",
   "execution_count": 68,
   "metadata": {
    "colab": {},
    "colab_type": "code",
    "id": "MoUyQr9RVp_B"
   },
   "outputs": [
    {
     "name": "stdout",
     "output_type": "stream",
     "text": [
      "Самые большие сборы 2008 - 1001921825\n",
      "Самый кассовый фильм 2008 г.  The Dark Knight\n"
     ]
    }
   ],
   "source": [
    "answers['9'] = 'The Dark Knight (tt0468569)' # +\n",
    "\n",
    "# код для решения данного вопроса:\n",
    "print('Самые большие сборы 2008 -', data[data['release_year'] == 2008]['revenue'].max())\n",
    "df_2008 = data[data['release_year'] == 2008] # Создадим таблицу фильмов 2008 года.\n",
    "df_max_revenue2008 = df_2008[df_2008['revenue'] == df_2008.revenue.max()]['original_title'] # Находим max значение.\n",
    "print('Самый кассовый фильм 2008 г. ', df_max_revenue2008.values[0])"
   ]
  },
  {
   "cell_type": "markdown",
   "metadata": {
    "colab_type": "text",
    "id": "Zi4hDKidVp_F"
   },
   "source": [
    "# 10. Самый убыточный фильм за период с 2012 по 2014 г. (включительно)?\n"
   ]
  },
  {
   "cell_type": "code",
   "execution_count": 69,
   "metadata": {
    "colab": {},
    "colab_type": "code",
    "id": "XqyRmufJVp_F"
   },
   "outputs": [
    {
     "name": "stdout",
     "output_type": "stream",
     "text": [
      "Самые большие убытки с 2012 по 2014 г. - -165710090\n",
      "Самый убыточный фильм за период с 2012 по 2014 г.  The Lone Ranger\n"
     ]
    }
   ],
   "source": [
    "answers['10'] = 'The Lone Ranger (tt1210819)' # +\n",
    "\n",
    "# код для решения данного вопроса:\n",
    "print('Самые большие убытки с 2012 по 2014 г. -', data.query('2012 <= release_year <= 2014').profit.min())\n",
    "df_2012_14 = data.query('2012 <= release_year <= 2014') # Создадим таблицу фильмов с 2012 по 2014 г.\n",
    "min_profit2012_14 = df_2012_14[df_2012_14['profit'] == df_2012_14.profit.min()]['original_title'] # Находим min значение.\n",
    "print('Самый убыточный фильм за период с 2012 по 2014 г. ', min_profit2012_14.values[0])"
   ]
  },
  {
   "cell_type": "markdown",
   "metadata": {
    "colab_type": "text",
    "id": "EA7Sa9dkVp_I"
   },
   "source": [
    "# 11. Какого жанра фильмов больше всего?"
   ]
  },
  {
   "cell_type": "code",
   "execution_count": 70,
   "metadata": {
    "colab": {},
    "colab_type": "code",
    "id": "zsJAwJ8QVp_J"
   },
   "outputs": [
    {
     "name": "stdout",
     "output_type": "stream",
     "text": [
      "Action 582\n",
      "Adventure 415\n",
      "Drama 782\n",
      "Comedy 683\n",
      "Thriller 596\n"
     ]
    }
   ],
   "source": [
    "# эту задачу тоже можно решать разными подходами, попробуй реализовать разные варианты\n",
    "# если будешь добавлять функцию - выноси ее в предобработку что в начале\n",
    "answers['11'] = 'Drama' # +\n",
    "\n",
    "# код для решения данного вопроса:\n",
    "# Первоначально я делал так, пока не понял, что это не правильно.\n",
    "\n",
    "# Создадим для каждого жанра таблицу фильмов, которые к нему относятся.\n",
    "\n",
    "df_Action = data[data.genres.str.contains(\"Action\")]\n",
    "df_Adventure = data[data.genres.str.contains(\"Adventure\")]\n",
    "df_Drama = data[data.genres.str.contains(\"Drama\")]\n",
    "df_Comedy = data[data.genres.str.contains(\"Comedy\")]\n",
    "df_Thriller = data[data.genres.str.contains(\"Thriller\")]\n",
    "\n",
    " # Узнаем количество фильмов в каждой таблице, выбираем нужный вариант.\n",
    "print(\"Action\", df_Action.genres.count())\n",
    "print(\"Adventure\", df_Adventure.genres.count()) \n",
    "print(\"Drama\", df_Drama.genres.count())\n",
    "print(\"Comedy\", df_Comedy.genres.count())\n",
    "print(\"Thriller\", df_Thriller.genres.count())\n"
   ]
  },
  {
   "cell_type": "markdown",
   "metadata": {
    "colab_type": "text",
    "id": "Ax6g2C8SVp_M"
   },
   "source": [
    "ВАРИАНТ 2"
   ]
  },
  {
   "cell_type": "code",
   "execution_count": 18,
   "metadata": {
    "colab": {},
    "colab_type": "code",
    "id": "otO3SbrSVp_N"
   },
   "outputs": [
    {
     "name": "stdout",
     "output_type": "stream",
     "text": [
      "Самый популярный жанр -  Drama\n"
     ]
    }
   ],
   "source": [
    "# код для решения данного вопроса:\n",
    "# Вариант, не использующий варианты ответов, среди которых есть правильный.\n",
    "\n",
    "new_data = data['genres'].str.split('|') # Создаём таблицу списков жанров.\n",
    "for lists in new_data: # Проходим по всем значениям.\n",
    "    for word in lists:\n",
    "        count[word] += 1 # Записываем в словарь.\n",
    "\n",
    "pop_genre = [k for k, v in count.items() if v == max(count.values())] # Находим максимальное значение.\n",
    "print(\"Самый популярный жанр - \", pop_genre[0])"
   ]
  },
  {
   "cell_type": "markdown",
   "metadata": {
    "colab_type": "text",
    "id": "T9_bPWpkVp_Q"
   },
   "source": [
    "# 12. Фильмы какого жанра чаще всего становятся прибыльными? "
   ]
  },
  {
   "cell_type": "code",
   "execution_count": 71,
   "metadata": {
    "colab": {},
    "colab_type": "code",
    "id": "Tmt8MaK1Vp_R"
   },
   "outputs": [
    {
     "name": "stdout",
     "output_type": "stream",
     "text": [
      "Количество прибыльных фильмов Action 0.7628865979381443 444\n",
      "Количество прибыльных фильмов Adventure 0.8120481927710843 337\n",
      "Количество прибыльных фильмов Drama 0.7161125319693095 560\n",
      "Количество прибыльных фильмов Comedy 0.8067349926793558 551\n",
      "Количество прибыльных фильмов Thriller 0.7483221476510067 446\n"
     ]
    }
   ],
   "source": [
    "answers['12'] = 'Drama' # +\n",
    "\n",
    "# код для решения данного вопроса: (не универсальный)\n",
    "# Поскольку формулировака данного вопроса была изменена, привожу в первом варианте ответ на первую.\n",
    "# Вопрос подразумевает сравнение относительных величин, то есть вероятность, что станет прибыльным.\n",
    "\n",
    "df_Action = data[data.genres.str.contains(\"Action\")]\n",
    "df_Adventure = data[data.genres.str.contains(\"Adventure\")]\n",
    "df_Drama = data[data.genres.str.contains(\"Drama\")]\n",
    "df_Comedy = data[data.genres.str.contains(\"Comedy\")]\n",
    "df_Thriller = data[data.genres.str.contains(\"Thriller\")]\n",
    "\n",
    "# Посчитаем количество прибыльных фильмов в каждой таблице и \n",
    "# отношение прибыльных фильмов к общему числу фильмов данного жанра.\n",
    "\n",
    "print('Количество прибыльных фильмов Action', \n",
    "      df_Action[df_Action['profit'] > 0].profit.count() / df_Action.genres.count(), \n",
    "      df_Action[df_Action['profit'] > 0].profit.count())\n",
    "print('Количество прибыльных фильмов Adventure', \n",
    "      df_Adventure[df_Adventure['profit'] > 0].profit.count() / df_Adventure.genres.count(), \n",
    "      df_Adventure[df_Adventure['profit'] > 0].profit.count())\n",
    "print('Количество прибыльных фильмов Drama', \n",
    "      df_Drama[df_Drama['profit'] > 0].profit.count() / df_Drama.genres.count(), \n",
    "      df_Drama[df_Drama['profit'] > 0].profit.count())\n",
    "print('Количество прибыльных фильмов Comedy', \n",
    "      df_Comedy[df_Comedy['profit'] > 0].profit.count() / df_Comedy.genres.count(), \n",
    "      df_Comedy[df_Comedy['profit'] > 0].profit.count())\n",
    "print('Количество прибыльных фильмов Thriller', \n",
    "      df_Thriller[df_Thriller['profit'] > 0].profit.count() / df_Thriller.genres.count(), \n",
    "      df_Thriller[df_Thriller['profit'] > 0].profit.count())\n",
    "# Ответ при данной постановке вопроса, оказался противоположным. (Adventure)"
   ]
  },
  {
   "cell_type": "code",
   "execution_count": 29,
   "metadata": {},
   "outputs": [
    {
     "data": {
      "text/plain": [
       "0       [Action, Adventure, Science Fiction, Thriller]\n",
       "1       [Action, Adventure, Science Fiction, Thriller]\n",
       "2               [Adventure, Science Fiction, Thriller]\n",
       "3        [Action, Adventure, Science Fiction, Fantasy]\n",
       "4                            [Action, Crime, Thriller]\n",
       "                             ...                      \n",
       "1871                                          [Comedy]\n",
       "1875                         [Fantasy, Comedy, Family]\n",
       "1877                  [Action, Comedy, Drama, Romance]\n",
       "1883                          [Romance, Comedy, Drama]\n",
       "1884              [Adventure, Action, Science Fiction]\n",
       "Name: genres, Length: 1478, dtype: object"
      ]
     },
     "metadata": {},
     "output_type": "display_data"
    },
    {
     "name": "stdout",
     "output_type": "stream",
     "text": [
      "Больше всего среди прибыльных жанр -  Drama\n"
     ]
    }
   ],
   "source": [
    "# 2 Вариант\n",
    "\n",
    "positive_film = data[data['profit'] > 0] # Создадим таблицу прибыльных фильмов.\n",
    "new_data = positive_film['genres'].str.split('|') # Создаём таблицу списков жанров.\n",
    "for lists in new_data:\n",
    "    for word in lists:\n",
    "        count[word] += 1\n",
    "display(new_data)\n",
    "pop_genre = [k for k, v in count.items() if v == max(count.values())] # Находим максимальное значение.\n",
    "print(\"Больше всего среди прибыльных жанр - \", pop_genre[0])"
   ]
  },
  {
   "cell_type": "markdown",
   "metadata": {
    "colab_type": "text",
    "id": "0F23bgsDVp_U"
   },
   "source": [
    "# 13. У какого режиссера самые большие суммарные кассовые сборы?"
   ]
  },
  {
   "cell_type": "code",
   "execution_count": 72,
   "metadata": {
    "colab": {},
    "colab_type": "code",
    "id": "K6Z3J8ygVp_X"
   },
   "outputs": [
    {
     "name": "stdout",
     "output_type": "stream",
     "text": [
      "Spielberg 10 ; Сумма сборов 3386700791\n",
      "Nolan 8 ; Сумма сборов 4167548502\n",
      "Yates 4 ; Сумма сборов 4154295625\n",
      "Cameron 2 ; Сумма сборов 2798546718\n",
      "Jackson 8 ; Сумма сборов 6490593685\n"
     ]
    }
   ],
   "source": [
    "answers['13'] = 'Peter Jackson' # +\n",
    "\n",
    "# код для решения данного вопроса: (не универсальный)\n",
    "# Создадим для каждого режиссёра таблицу фильмов, которые к нему относятся.\n",
    "\n",
    "df_Spielberg = data[data.director.str.contains(\"Steven Spielberg\")]\n",
    "df_Nolan = data[data.director.str.contains(\"Christopher Nolan\")]\n",
    "df_Yates = data[data.director.str.contains(\"David Yates\")]\n",
    "df_Cameron = data[data.director.str.contains(\"James Cameron\")]\n",
    "df_Jackson = data[data.director.str.contains(\"Peter Jackson\")]\n",
    "\n",
    "# Узнаем у какого режиссёра самые большие суммарные кассовые сборы.\n",
    "\n",
    "print(\"Spielberg\", df_Spielberg.director.count(), \"; Сумма сборов\", df_Spielberg.revenue.sum())\n",
    "print(\"Nolan\", df_Nolan.director.count(), \"; Сумма сборов\", df_Nolan.revenue.sum()) \n",
    "print(\"Yates\", df_Yates.director.count(), \"; Сумма сборов\", df_Yates.revenue.sum())\n",
    "print(\"Cameron\", df_Cameron.director.count(), \"; Сумма сборов\", df_Cameron.revenue.sum())\n",
    "print(\"Jackson\", df_Jackson.director.count(), \"; Сумма сборов\", df_Jackson.revenue.sum())"
   ]
  },
  {
   "cell_type": "code",
   "execution_count": 22,
   "metadata": {},
   "outputs": [
    {
     "name": "stdout",
     "output_type": "stream",
     "text": [
      "Самые большие суммарные кассовые сборы у Peter Jackson\n"
     ]
    }
   ],
   "source": [
    "# 2 Вариант\n",
    "\n",
    "grouped_df = data.groupby(['director']).sum() # Создадим таблицу сумм кассовых сборов каждого режиссёра.\n",
    "super_director = grouped_df.sort_values(['profit'],ascending=False)['profit'].index[0]\n",
    "print(\"Самые большие суммарные кассовые сборы у\", super_director)\n",
    "# Но если работа совместная, то непонятно каким образом рассчитывать сумму сборов."
   ]
  },
  {
   "cell_type": "markdown",
   "metadata": {
    "colab_type": "text",
    "id": "PsYC9FgRVp_a"
   },
   "source": [
    "# 14. Какой режисер снял больше всего фильмов в стиле Action?"
   ]
  },
  {
   "cell_type": "code",
   "execution_count": 73,
   "metadata": {
    "colab": {},
    "colab_type": "code",
    "id": "wd2M-wHeVp_b"
   },
   "outputs": [
    {
     "name": "stdout",
     "output_type": "stream",
     "text": [
      "Ridley Scott 6\n",
      "Ritchie 4\n",
      "Rodriguez 9\n",
      "Tarantino 5\n",
      "Tony Scott 5\n"
     ]
    }
   ],
   "source": [
    "answers['14'] = 'Robert Rodriguez' # +\n",
    "\n",
    "# код для решения данного вопроса: (не универсальный)\n",
    "df_Action = data[data.genres.str.contains(\"Action\")] # Создадим таблицу фильмов, которые относятся к жанру Action.\n",
    "\n",
    "# Создадим для каждого режиссёра таблицу фильмов, которые к нему относятся в этом жанре.\n",
    "df_RidleyScott = df_Action[df_Action.director.str.contains(\"Ridley Scott\")]\n",
    "df_Ritchie = df_Action[df_Action.director.str.contains(\"Guy Ritchie\")]\n",
    "df_Rodriguez = df_Action[df_Action.director.str.contains(\"Robert Rodriguez\")]\n",
    "df_Tarantino = df_Action[df_Action.director.str.contains(\"Quentin Tarantino\")]\n",
    "df_TonyScott = df_Action[df_Action.director.str.contains(\"Tony Scott\")]\n",
    "\n",
    "print(\"Ridley Scott\", df_RidleyScott.director.count())\n",
    "print(\"Ritchie\", df_Ritchie.director.count()) \n",
    "print(\"Rodriguez\", df_Rodriguez.director.count())\n",
    "print(\"Tarantino\", df_Tarantino.director.count())\n",
    "print(\"Tony Scott\", df_TonyScott.director.count())"
   ]
  },
  {
   "cell_type": "code",
   "execution_count": 34,
   "metadata": {},
   "outputs": [
    {
     "name": "stdout",
     "output_type": "stream",
     "text": [
      "Больше всего фильмов в стиле Action снял -  Robert Rodriguez\n"
     ]
    }
   ],
   "source": [
    "# 2 Вариант\n",
    "\n",
    "count = collections.Counter() # Создаём словарь - счётчик.\n",
    "new_data = df_Action['director'].str.split('|') # Создаём таблицу списков режиссёров.\n",
    "for lists in new_data:\n",
    "    for word in lists:\n",
    "        count[word] += 1\n",
    "\n",
    "pop_director = [k for k, v in count.items() if v == max(count.values())] # Находим максимальное значение.\n",
    "print(\"Больше всего фильмов в стиле Action снял - \", pop_director[0]) "
   ]
  },
  {
   "cell_type": "markdown",
   "metadata": {
    "colab_type": "text",
    "id": "PQ0KciD7Vp_f"
   },
   "source": [
    "# 15. Фильмы с каким актером принесли самые высокие кассовые сборы в 2012 году? "
   ]
  },
  {
   "cell_type": "code",
   "execution_count": 74,
   "metadata": {
    "colab": {},
    "colab_type": "code",
    "id": "aga62oeKVp_g"
   },
   "outputs": [
    {
     "name": "stdout",
     "output_type": "stream",
     "text": [
      "Nicolas Cage  2106557\n",
      "Tom Hardy  1134717867\n",
      "Chris Hemsworth  2027450773\n",
      "Jim Sturgess  138589343\n",
      "Emma Stone  752215857\n"
     ]
    }
   ],
   "source": [
    "answers['15'] = 'Chris Hemsworth' # +\n",
    "\n",
    "# код для решения данного вопроса: (не универсальный)\n",
    "\n",
    "# Создадим для каждого актёра таблицу фильмов, которые к нему относятся в 2012 году.\n",
    "df_Cage = data[(data.cast.str.contains(\"Nicolas Cage\")) & (data.release_year == 2012)]\n",
    "print(\"Nicolas Cage \", df_Cage.revenue.sum())\n",
    "df_Hardy = data[(data.cast.str.contains(\"Tom Hardy\")) & (data.release_year == 2012)]\n",
    "print(\"Tom Hardy \", df_Hardy.revenue.sum())\n",
    "df_Hemsworth = data[(data.cast.str.contains(\"Chris Hemsworth\")) & (data.release_year == 2012)]\n",
    "print(\"Chris Hemsworth \", df_Hemsworth.revenue.sum())\n",
    "df_Sturgess = data[(data.cast.str.contains(\"Jim Sturgess\")) & (data.release_year == 2012)]\n",
    "print(\"Jim Sturgess \", df_Sturgess.revenue.sum())\n",
    "df_Stone = data[(data.cast.str.contains(\"Emma Stone\")) & (data.release_year == 2012)]\n",
    "print(\"Emma Stone \", df_Stone.revenue.sum())"
   ]
  },
  {
   "cell_type": "code",
   "execution_count": 35,
   "metadata": {},
   "outputs": [
    {
     "name": "stdout",
     "output_type": "stream",
     "text": [
      "Фильмы с  Chris Hemsworth принесли самые высокие кассовые сборы в 2012 году.\n"
     ]
    }
   ],
   "source": [
    "# 2 Вариант\n",
    "\n",
    "new_2012 = data.query('release_year == 2012') # Создадим таблицу фильмов 2012 года.\n",
    "count = collections.Counter() # Создаём словарь - счётчик.\n",
    "new_data = new_2012['cast'].str.split('|') # Создаём таблицу списков актёров.\n",
    "for lists in new_data:\n",
    "    for word in lists:\n",
    "        count[word] += 1\n",
    "\n",
    "value = 0\n",
    "value_dict = {} # Создадим словарь - счётчик для записи сумм сборов.\n",
    "for text in count.keys(): # Проходим по ключам - актёрам.\n",
    "    value = new_2012[new_2012.cast.str.contains(text)].revenue.sum() # Считаем сумму сборов.\n",
    "    value_dict[text] = value # Записываем в словарь.\n",
    "\n",
    "actor = [k for k, v in value_dict.items() if v == max(value_dict.values())]  # Находим максимальное значение.\n",
    "print(\"Фильмы с \", actor[0], \"принесли самые высокие кассовые сборы в 2012 году.\" )"
   ]
  },
  {
   "cell_type": "markdown",
   "metadata": {
    "colab_type": "text",
    "id": "mWHyyL7QVp_j"
   },
   "source": [
    "# 16. Какой актер снялся в большем количестве высокобюджетных фильмов?"
   ]
  },
  {
   "cell_type": "code",
   "execution_count": 75,
   "metadata": {
    "colab": {},
    "colab_type": "code",
    "id": "qQtmHKTFVp_k"
   },
   "outputs": [
    {
     "name": "stdout",
     "output_type": "stream",
     "text": [
      "Tom Cruise  15\n",
      "Mark Wahlberg  14\n",
      "Matt Damon  18\n",
      "Angelina Jolie  16\n",
      "Adam Sandler  17\n"
     ]
    }
   ],
   "source": [
    "answers['16'] = 'Matt Damon' # +\n",
    "\n",
    "# код для решения данного вопроса: (не универсальный)\n",
    "large_budget = data[data.budget > data.budget.mean()] # Создадим таблицу высокобюджетных фильмов.\n",
    "\n",
    "# Создадим для каждого актёра таблицу фильмов, которые к нему относятся этой таблице.\n",
    "df_Cruise = large_budget[large_budget.cast.str.contains(\"Tom Cruise\")]\n",
    "print(\"Tom Cruise \", df_Cruise.original_title.count())\n",
    "df_Wahlberg = large_budget[large_budget.cast.str.contains(\"Mark Wahlberg\")]\n",
    "print(\"Mark Wahlberg \", df_Wahlberg.original_title.count())\n",
    "df_Damon = large_budget[large_budget.cast.str.contains(\"Matt Damon\")]\n",
    "print(\"Matt Damon \", df_Damon.original_title.count())\n",
    "df_Jolie = large_budget[large_budget.cast.str.contains(\"Angelina Jolie\")]\n",
    "print(\"Angelina Jolie \", df_Jolie.original_title.count())\n",
    "df_Sandler = large_budget[large_budget.cast.str.contains(\"Adam Sandler\")]\n",
    "print(\"Adam Sandler \", df_Sandler.original_title.count())"
   ]
  },
  {
   "cell_type": "code",
   "execution_count": 37,
   "metadata": {},
   "outputs": [
    {
     "name": "stdout",
     "output_type": "stream",
     "text": [
      "Matt Damon снялся в большем количестве высокобюджетных фильмов\n"
     ]
    }
   ],
   "source": [
    "# 2 Вариант\n",
    "large_budget = data[data.budget > data.budget.mean()] # Создадим таблицу высокобюджетных фильмов.\n",
    "count = collections.Counter() # Создаём словарь - счётчик.\n",
    "new_data = large_budget['cast'].str.split('|') # Создаём таблицу списков актёров высокобюджетных фильмов.\n",
    "for lists in new_data:\n",
    "    for word in lists:\n",
    "        count[word] += 1\n",
    "\n",
    "pop_cast_action = [k for k, v in count.items() if v == max(count.values())]  # Находим максимальное значение.\n",
    "print(pop_cast_action[0], \"снялся в большем количестве высокобюджетных фильмов\")"
   ]
  },
  {
   "cell_type": "markdown",
   "metadata": {
    "colab_type": "text",
    "id": "NIh6AaW5Vp_n"
   },
   "source": [
    "# 17. В фильмах какого жанра больше всего снимался Nicolas Cage? "
   ]
  },
  {
   "cell_type": "code",
   "execution_count": 76,
   "metadata": {
    "colab": {},
    "colab_type": "code",
    "id": "H74SJDIBVp_n"
   },
   "outputs": [
    {
     "name": "stdout",
     "output_type": "stream",
     "text": [
      "Nicolas Cage(Drama)  12\n",
      "Nicolas Cage(Action)  17\n",
      "Nicolas Cage(Thriller)  15\n",
      "Nicolas Cage(Adventure)  7\n",
      "Nicolas Cage(Crime)  10\n"
     ]
    }
   ],
   "source": [
    "answers['17'] = 'Action' # +\n",
    "\n",
    "# код для решения данного вопроса: (не универсальный)\n",
    "\n",
    "# Создадим для каждого жанра таблицу фильмов, в которых снимался Nicolas Cage.\n",
    "df_Drama = data[(data.genres.str.contains(\"Drama\")) & (data.cast.str.contains(\"Nicolas Cage\"))]\n",
    "df_Action = data[(data.genres.str.contains(\"Action\")) & (data.cast.str.contains(\"Nicolas Cage\"))]\n",
    "df_Thriller = data[(data.genres.str.contains(\"Thriller\")) & (data.cast.str.contains(\"Nicolas Cage\"))]\n",
    "df_Adventure = data[(data.genres.str.contains(\"Adventure\")) & (data.cast.str.contains(\"Nicolas Cage\"))]\n",
    "df_Crime = data[(data.genres.str.contains(\"Crime\")) & (data.cast.str.contains(\"Nicolas Cage\"))]\n",
    "\n",
    "print(\"Nicolas Cage(Drama) \", df_Drama.original_title.count())\n",
    "print(\"Nicolas Cage(Action) \", df_Action.original_title.count())\n",
    "print(\"Nicolas Cage(Thriller) \", df_Thriller.original_title.count())\n",
    "print(\"Nicolas Cage(Adventure) \", df_Adventure.original_title.count())\n",
    "print(\"Nicolas Cage(Crime) \", df_Crime.original_title.count())"
   ]
  },
  {
   "cell_type": "code",
   "execution_count": 39,
   "metadata": {},
   "outputs": [
    {
     "name": "stdout",
     "output_type": "stream",
     "text": [
      "В фильмах Action больше всего снимался Nicolas Cage\n"
     ]
    }
   ],
   "source": [
    "# 2 Вариант\n",
    "# Составим таблицу фильмов Nicolas Cage\n",
    "data_Cage = data[data.cast.str.contains(\"Nicolas Cage\")]\n",
    "count = collections.Counter() # Создаём словарь - счётчик.\n",
    "new_data = data_Cage['genres'].str.split('|') # Создаём таблицу жанров фильмов, в которых снимался Nicolas Cage.\n",
    "for lists in new_data:\n",
    "    for word in lists:\n",
    "        count[word] += 1\n",
    "\n",
    "max_Cage_genres = [k for k, v in count.items() if v == max(count.values())]  # Находим максимальное значение.\n",
    "print(\"В фильмах\", max_Cage_genres[0], \"больше всего снимался Nicolas Cage\")"
   ]
  },
  {
   "cell_type": "markdown",
   "metadata": {
    "colab_type": "text",
    "id": "RqOmPRfWVp_q"
   },
   "source": [
    "# 18. Самый убыточный фильм от Paramount Pictures"
   ]
  },
  {
   "cell_type": "code",
   "execution_count": 77,
   "metadata": {
    "colab": {},
    "colab_type": "code",
    "id": "9E_B0Y96Vp_r"
   },
   "outputs": [
    {
     "name": "stdout",
     "output_type": "stream",
     "text": [
      "Самый убыточный фильм от Paramount Pictures:  K-19: The Widowmaker\n"
     ]
    }
   ],
   "source": [
    "answers['18'] = 'K-19: The Widowmaker (tt0267626)' # +\n",
    "\n",
    "# код для решения данного вопроса:\n",
    "\n",
    "df_Paramount = data[data.production_companies.str.contains(\"Paramount Pictures\")] # Таблица фильмов от Paramount Pictures.\n",
    "loss_film = df_Paramount[df_Paramount['profit'] == df_Paramount.profit.min()]['original_title'] # Находим min значение.\n",
    "print(\"Самый убыточный фильм от Paramount Pictures: \", loss_film.values[0])"
   ]
  },
  {
   "cell_type": "markdown",
   "metadata": {
    "colab_type": "text",
    "id": "vS8Ur6ddVp_u"
   },
   "source": [
    "# 19. Какой год стал самым успешным по суммарным кассовым сборам?"
   ]
  },
  {
   "cell_type": "code",
   "execution_count": 78,
   "metadata": {
    "colab": {},
    "colab_type": "code",
    "id": "Dnbt4GdIVp_v"
   },
   "outputs": [
    {
     "name": "stdout",
     "output_type": "stream",
     "text": [
      "Самый успешный год по суммарным кассовым сборам 2015\n"
     ]
    }
   ],
   "source": [
    "answers['19'] = '2015' # +\n",
    "\n",
    "# код для решения данного вопроса:\n",
    "# Группируем по году и сборам, сортируем и находим индекс максимальной суммы.\n",
    "best_year = data.groupby(['release_year'])['revenue'].sum().sort_values(ascending=False).index[0]\n",
    "print(\"Самый успешный год по суммарным кассовым сборам\", best_year)"
   ]
  },
  {
   "cell_type": "markdown",
   "metadata": {
    "colab_type": "text",
    "id": "JAzJh4QAVp_z"
   },
   "source": [
    "# 20. Какой самый прибыльный год для студии Warner Bros?"
   ]
  },
  {
   "cell_type": "code",
   "execution_count": 79,
   "metadata": {
    "colab": {},
    "colab_type": "code",
    "id": "wgVu02DEVp_0"
   },
   "outputs": [
    {
     "name": "stdout",
     "output_type": "stream",
     "text": [
      "Самый прибыльный год для студии Warner Bros -  2014\n"
     ]
    }
   ],
   "source": [
    "answers['20'] = '2014' # +\n",
    "\n",
    "# код для решения данного вопроса:\n",
    "data_Warner = data[data.production_companies.str.contains(\"Warner Bros\")] # Находим фильмы студии Warner Bros.\n",
    "# Группируем по году и сборам, сортируем и находим индекс максимальной суммы.\n",
    "best_year_Warner = data_Warner.groupby(['release_year'])['profit'].sum().sort_values(ascending=False).index[0]\n",
    "print(\"Самый прибыльный год для студии Warner Bros - \", best_year_Warner)"
   ]
  },
  {
   "cell_type": "markdown",
   "metadata": {
    "colab_type": "text",
    "id": "8Im1S2HRVp_4"
   },
   "source": [
    "# 21. В каком месяце за все годы суммарно вышло больше всего фильмов?"
   ]
  },
  {
   "cell_type": "code",
   "execution_count": 80,
   "metadata": {
    "colab": {},
    "colab_type": "code",
    "id": "lev6TH7gVp_4"
   },
   "outputs": [
    {
     "name": "stdout",
     "output_type": "stream",
     "text": [
      "Больше всего фильмов вышло в  9 месяце\n"
     ]
    }
   ],
   "source": [
    "answers['21'] = 'Сентябрь' # +\n",
    "\n",
    "# код для решения данного вопроса:\n",
    "# Применяем функцию keep_month к столбцу даты, чтобы остался только месяц. (из предобработки)\n",
    "data.release_date = data.release_date.apply(lambda x:keep_month(x, '/'))\n",
    "\n",
    "# Группируем по месцам и названиям, сортируем по убыванию и находим первое значение.\n",
    "best_month = data.groupby(['release_date'])['original_title'].count().sort_values(ascending=False).index[0]\n",
    "print(\"Больше всего фильмов вышло в \", best_month, \"месяце\")"
   ]
  },
  {
   "cell_type": "markdown",
   "metadata": {
    "colab_type": "text",
    "id": "uAJsZ_NeVp_7"
   },
   "source": [
    "# 22. Сколько суммарно вышло фильмов летом? (за июнь, июль, август)"
   ]
  },
  {
   "cell_type": "code",
   "execution_count": 81,
   "metadata": {
    "colab": {},
    "colab_type": "code",
    "id": "Aa-hEREoVp_8"
   },
   "outputs": [
    {
     "name": "stdout",
     "output_type": "stream",
     "text": [
      "Всего фильмов вышло в летние месяцы -  450\n"
     ]
    }
   ],
   "source": [
    "answers['22'] = '450' # +\n",
    "\n",
    "# код для решения данного вопроса:\n",
    "# Применяем функцию keep_month к столбцу даты, чтобы остался только месяц.\n",
    "data.release_date = data.release_date.apply(lambda x:keep_month(x, '/'))\n",
    "\n",
    "# Создадим таблицу фильмов, которые были выпущены в летние месяцы.\n",
    "summer_months = data.query('release_date == \"6\" or release_date == \"7\" or release_date == \"8\"')\n",
    "\n",
    "# Группируем по месцам и названиям, считаем и суммируем.\n",
    "count_summer_films = summer_months.groupby(['release_date'])['original_title'].count().sum()\n",
    "print(\"Всего фильмов вышло в летние месяцы - \", count_summer_films)"
   ]
  },
  {
   "cell_type": "markdown",
   "metadata": {
    "colab_type": "text",
    "id": "G94ppOY1VqAA"
   },
   "source": [
    "# 23. Для какого режиссера зима – самое продуктивное время года? "
   ]
  },
  {
   "cell_type": "code",
   "execution_count": 82,
   "metadata": {
    "colab": {},
    "colab_type": "code",
    "id": "RhNTsamuVqAB"
   },
   "outputs": [
    {
     "name": "stdout",
     "output_type": "stream",
     "text": [
      "Для Peter Jackson  - зима самое продуктивное время года.\n"
     ]
    }
   ],
   "source": [
    "answers['23'] = 'Peter Jackson' # +\n",
    "\n",
    "# код для решения данного вопроса:\n",
    "# Применяем функцию keep_month к столбцу даты, чтобы остался только месяц.\n",
    "data.release_date = data.release_date.apply(lambda x:keep_month(x, '/'))\n",
    "\n",
    "# Создадим таблицу фильмов, вышедших зимой.\n",
    "winter_months = data.query('release_date == \"12\" or release_date == \"1\" or release_date == \"2\"')\n",
    "count = collections.Counter() # Создаём словарь - счётчик.\n",
    "new_data = winter_months['director'].str.split('|') # Создаём таблицу списков режиссёров для данной таблицы.\n",
    "for lists in new_data:\n",
    "    for word in lists:\n",
    "        count[word] += 1\n",
    "        \n",
    "best_winter_director = [k for k, v in count.items() if v == max(count.values())] # Находим максимальное значение.\n",
    "print(\"Для\", best_winter_director[0], \" - зима самое продуктивное время года.\")"
   ]
  },
  {
   "cell_type": "markdown",
   "metadata": {
    "colab_type": "text",
    "id": "RBo0JVjVVqAF"
   },
   "source": [
    "# 24. Какая студия дает самые длинные названия своим фильмам по количеству символов?"
   ]
  },
  {
   "cell_type": "code",
   "execution_count": 89,
   "metadata": {
    "colab": {},
    "colab_type": "code",
    "id": "QRGS8L0iVqAG"
   },
   "outputs": [
    {
     "name": "stdout",
     "output_type": "stream",
     "text": [
      "Студия  Four By Two Productions даёт самые длинные названия своим фильмам по количеству символов.\n"
     ]
    }
   ],
   "source": [
    "answers['24'] = 'Four By Two Productions' # +\n",
    "\n",
    "# код для решения данного вопроса:\n",
    "data = pd.read_csv('movie_bd_v5.csv')\n",
    "# Создадим таблицу где вместо названий будут количество символов в названии.\n",
    "data.original_title = data.original_title.apply(lambda x:len(x))\n",
    "count = collections.Counter() # Создаём словарь - счётчик.\n",
    "companies = data['production_companies'].str.split('|')# Создадим словарь студий.\n",
    "for lists in companies:\n",
    "    for word in lists:\n",
    "        count[word] += 1 # Запишем в словарь.\n",
    "\n",
    "value = 0.0\n",
    "value_dict = {} # Создадим словарь студий и средних значний.\n",
    "for text in count.keys():\n",
    "    value = data[data.production_companies.str.contains(text)].original_title.mean() # Рассчитываем среднее.\n",
    "    value_dict[text] = value # Записывае в словарь студию и среднее значение.\n",
    "\n",
    "companie_max_simbol = [k for k, v in value_dict.items() if v == max(value_dict.values())] # Найдём максимальное значение.\n",
    "print(\"Студия \", companie_max_simbol[0], \"даёт самые длинные названия своим фильмам по количеству символов.\" )"
   ]
  },
  {
   "cell_type": "markdown",
   "metadata": {
    "colab_type": "text",
    "id": "9G0hbvR7VqAK"
   },
   "source": [
    "# 25. Описание фильмов какой студии в среднем самые длинные по количеству слов?"
   ]
  },
  {
   "cell_type": "code",
   "execution_count": 84,
   "metadata": {
    "colab": {},
    "colab_type": "code",
    "id": "Ge2GsLNxVqAK"
   },
   "outputs": [
    {
     "name": "stdout",
     "output_type": "stream",
     "text": [
      "Описания фильмов  Midnight Picture Show в среднем самые длинные по количеству слов.\n"
     ]
    }
   ],
   "source": [
    "answers['25'] = 'Midnight Picture Show' # +\n",
    "\n",
    "# код для решения данного вопроса:\n",
    "data = pd.read_csv('movie_bd_v5.csv')\n",
    "# Создадим таблицу где вместо описаний будут количество слов в описании.\n",
    "data.overview = data.overview.apply(lambda x:count_word(x))\n",
    "\n",
    "companies = data['production_companies'].str.split('|') # Создадим словарь студий.\n",
    "for lists in companies:\n",
    "    for word in lists:\n",
    "        count[word] += 1\n",
    "\n",
    "value = 0.0\n",
    "value_dict = {}# Создадим словарь студий и средних значний.\n",
    "for text in count.keys():\n",
    "    value = data[data.production_companies.str.contains(text)].overview.mean()\n",
    "    value_dict[text] = value\n",
    "\n",
    "companie_max_word = [k for k, v in value_dict.items() if v == max(value_dict.values())] # Найдём максимальное значение.\n",
    "print(\"Описания фильмов \", companie_max_word[0], \"в среднем самые длинные по количеству слов.\" )"
   ]
  },
  {
   "cell_type": "markdown",
   "metadata": {
    "colab_type": "text",
    "id": "FJ1AFt90VqAP"
   },
   "source": [
    "# 26. Какие фильмы входят в 1 процент лучших по рейтингу? \n",
    "по vote_average"
   ]
  },
  {
   "cell_type": "code",
   "execution_count": 85,
   "metadata": {
    "colab": {},
    "colab_type": "code",
    "id": "8qmJVq4CVqAQ"
   },
   "outputs": [
    {
     "data": {
      "text/plain": [
       "'The Dark Knight'"
      ]
     },
     "metadata": {},
     "output_type": "display_data"
    },
    {
     "data": {
      "text/plain": [
       "'The Imitation Game'"
      ]
     },
     "metadata": {},
     "output_type": "display_data"
    },
    {
     "data": {
      "text/plain": [
       "'Inside Out'"
      ]
     },
     "metadata": {},
     "output_type": "display_data"
    },
    {
     "data": {
      "text/plain": [
       "'Interstellar'"
      ]
     },
     "metadata": {},
     "output_type": "display_data"
    },
    {
     "data": {
      "text/plain": [
       "'Room'"
      ]
     },
     "metadata": {},
     "output_type": "display_data"
    },
    {
     "data": {
      "text/plain": [
       "'The Lord of the Rings: The Return of the King'"
      ]
     },
     "metadata": {},
     "output_type": "display_data"
    },
    {
     "data": {
      "text/plain": [
       "'The Grand Budapest Hotel'"
      ]
     },
     "metadata": {},
     "output_type": "display_data"
    },
    {
     "data": {
      "text/plain": [
       "'The Wolf of Wall Street'"
      ]
     },
     "metadata": {},
     "output_type": "display_data"
    },
    {
     "data": {
      "text/plain": [
       "'Inception'"
      ]
     },
     "metadata": {},
     "output_type": "display_data"
    },
    {
     "data": {
      "text/plain": [
       "'Guardians of the Galaxy'"
      ]
     },
     "metadata": {},
     "output_type": "display_data"
    },
    {
     "data": {
      "text/plain": [
       "'Memento'"
      ]
     },
     "metadata": {},
     "output_type": "display_data"
    },
    {
     "data": {
      "text/plain": [
       "'Gone Girl'"
      ]
     },
     "metadata": {},
     "output_type": "display_data"
    },
    {
     "data": {
      "text/plain": [
       "'The Pianist'"
      ]
     },
     "metadata": {},
     "output_type": "display_data"
    },
    {
     "data": {
      "text/plain": [
       "'12 Years a Slave'"
      ]
     },
     "metadata": {},
     "output_type": "display_data"
    },
    {
     "data": {
      "text/plain": [
       "'Mr. Nobody'"
      ]
     },
     "metadata": {},
     "output_type": "display_data"
    },
    {
     "data": {
      "text/plain": [
       "'There Will Be Blood'"
      ]
     },
     "metadata": {},
     "output_type": "display_data"
    },
    {
     "data": {
      "text/plain": [
       "'The Lord of the Rings: The Two Towers'"
      ]
     },
     "metadata": {},
     "output_type": "display_data"
    },
    {
     "data": {
      "text/plain": [
       "'The Theory of Everything'"
      ]
     },
     "metadata": {},
     "output_type": "display_data"
    },
    {
     "data": {
      "text/plain": [
       "'Eternal Sunshine of the Spotless Mind'"
      ]
     },
     "metadata": {},
     "output_type": "display_data"
    },
    {
     "data": {
      "text/plain": [
       "'Dallas Buyers Club'"
      ]
     },
     "metadata": {},
     "output_type": "display_data"
    },
    {
     "data": {
      "text/plain": [
       "'The Fault in Our Stars'"
      ]
     },
     "metadata": {},
     "output_type": "display_data"
    },
    {
     "data": {
      "text/plain": [
       "'Her'"
      ]
     },
     "metadata": {},
     "output_type": "display_data"
    },
    {
     "data": {
      "text/plain": [
       "'The Prestige'"
      ]
     },
     "metadata": {},
     "output_type": "display_data"
    },
    {
     "data": {
      "text/plain": [
       "'Spotlight'"
      ]
     },
     "metadata": {},
     "output_type": "display_data"
    },
    {
     "data": {
      "text/plain": [
       "'3 Idiots'"
      ]
     },
     "metadata": {},
     "output_type": "display_data"
    },
    {
     "data": {
      "text/plain": [
       "'The Lord of the Rings: The Fellowship of the Ring'"
      ]
     },
     "metadata": {},
     "output_type": "display_data"
    },
    {
     "data": {
      "text/plain": [
       "'Big Hero 6'"
      ]
     },
     "metadata": {},
     "output_type": "display_data"
    },
    {
     "data": {
      "text/plain": [
       "'Prisoners'"
      ]
     },
     "metadata": {},
     "output_type": "display_data"
    },
    {
     "data": {
      "text/plain": [
       "'Captain Phillips'"
      ]
     },
     "metadata": {},
     "output_type": "display_data"
    },
    {
     "data": {
      "text/plain": [
       "'Django Unchained'"
      ]
     },
     "metadata": {},
     "output_type": "display_data"
    },
    {
     "data": {
      "text/plain": [
       "'Gladiator'"
      ]
     },
     "metadata": {},
     "output_type": "display_data"
    }
   ],
   "source": [
    "answers['26'] = 'Inside Out, The Dark Knight, 12 Years a Slave' # +\n",
    "\n",
    "# код для решения данного вопроса:\n",
    "\n",
    "# Необходимо найти фильмы количеством 1 процент от общего числа фильмов, \n",
    "# которые при этом занимают высшие позиции в рейтинге.\n",
    "\n",
    "# Отсортируем фильмы по рейтингу и посчитаем 1 процент верхних значений.\n",
    "data_rating = data['vote_average'].sort_values(ascending=False)\n",
    "\n",
    "# Сделаем выборку побольше, т.к. 7.8 это пограничный рейтинг, любой фильм с таким рейтингом, наверное, можно учитывать.\n",
    "data_small = data_rating.head(len(data) // 60)\n",
    "                                               \n",
    "# Для каждого значения индекса найдём название фильма.\n",
    "for i in data_small.index:\n",
    "    display(data.iloc[i]['original_title'])"
   ]
  },
  {
   "cell_type": "markdown",
   "metadata": {
    "colab_type": "text",
    "id": "MdXsUXbCVqAV"
   },
   "source": [
    "# 27. Какие актеры чаще всего снимаются в одном фильме вместе?\n"
   ]
  },
  {
   "cell_type": "markdown",
   "metadata": {
    "colab_type": "text",
    "id": "4ymnxEVoVqAW"
   },
   "source": [
    "ВАРИАНТ 1"
   ]
  },
  {
   "cell_type": "code",
   "execution_count": 86,
   "metadata": {
    "scrolled": true
   },
   "outputs": [
    {
     "name": "stdout",
     "output_type": "stream",
     "text": [
      "Johnny Depp & Helena Bonham Carter снимались вместе -  6 раз.\n",
      "Ben Stiller & Owen Wilson снимались вместе -  5 раз.\n",
      "Vin Diesel & Paul Walker снимались вместе -  5 раз.\n",
      "Adam Sandler & Kevin James снимались вместе -  5 раз.\n",
      "Daniel Radcliffe & Rupert Grint  снимались вместе -  8 раз.\n"
     ]
    }
   ],
   "source": [
    "answers['27'] = 'Daniel Radcliffe & Rupert Grint' # +\n",
    "\n",
    "# код для решения данного вопроса:  (не универсальный)\n",
    "# Сделал чтоы ответить на вопрос викторины.\n",
    "df_JD_HBC = data[(data.cast.str.contains(\"Johnny Depp\")) & (data.cast.str.contains(\"Helena Bonham Carter\"))]\n",
    "df_HJ_IM = data[(data.cast.str.contains(\"Hugh Jackman\")) & (data.cast.str.contains(\"Ian McKellen\"))]\n",
    "df_VD_PW = data[(data.cast.str.contains(\"Vin Diesel\")) & (data.cast.str.contains(\"Paul Walker\"))]\n",
    "df_AS_KJ = data[(data.cast.str.contains(\"Adam Sandler\")) & (data.cast.str.contains(\"Kevin James\"))]\n",
    "df_DR_RG = data[(data.cast.str.contains(\"Daniel Radcliffe\")) & (data.cast.str.contains(\"Rupert Grint\"))]\n",
    "\n",
    "print(\"Johnny Depp & Helena Bonham Carter снимались вместе - \", df_JD_HBC.cast.count(), \"раз.\")\n",
    "print(\"Ben Stiller & Owen Wilson снимались вместе - \", df_HJ_IM.cast.count(), \"раз.\")\n",
    "print(\"Vin Diesel & Paul Walker снимались вместе - \", df_VD_PW.cast.count(), \"раз.\")\n",
    "print(\"Adam Sandler & Kevin James снимались вместе - \", df_AS_KJ.cast.count(), \"раз.\")\n",
    "print(\"Daniel Radcliffe & Rupert Grint  снимались вместе - \", df_DR_RG.cast.count(), \"раз.\")"
   ]
  },
  {
   "cell_type": "markdown",
   "metadata": {},
   "source": [
    "ВАРИАНТ 2"
   ]
  },
  {
   "cell_type": "code",
   "execution_count": null,
   "metadata": {},
   "outputs": [],
   "source": [
    "# (Опубликован после дедлайна)\n",
    "# Составим словарь имён актёров. \n",
    "\n",
    "count_actor = Counter()\n",
    "data_actor = data['cast'].str.split('|')\n",
    "for list_actor in data_actor:\n",
    "    for text in list_actor:\n",
    "        count_actor[text] +=1\n",
    "\n",
    "actors = list(count_actor.keys()) # Представим ввиде списка имена актёров.\n",
    "\n",
    "count_two_actor = Counter()\n",
    "for i in range(len(actors)):\n",
    "    for text in actors[i:]:  #  Проходим по именам\n",
    "        if text != actors[i]: # Проходим по именам с помощью индекса, начиная с этого индекса, чтобы не было повторений.\n",
    "            data_i_j = data[(data.cast.str.contains(text)) & (data.cast.str.contains(actors[i]))] # Таблица, где оба актёра.\n",
    "            count_two_actor[text + ' & ' + actors[i]] = data_i_j.genres.count() # Записываем значение в словарь.\n",
    "\n",
    "# Найдём максимальное значение.\n",
    "two_actor_max = [k for k, v in count_two_actor.items() if v == max(count_two_actor.values())]\n",
    "print(two_actor_max[0], \"чаще всего снимаются в одном фильме вместе\" )"
   ]
  },
  {
   "cell_type": "markdown",
   "metadata": {
    "colab_type": "text",
    "id": "U0nONFnGVqAX"
   },
   "source": [
    "# Submission"
   ]
  },
  {
   "cell_type": "code",
   "execution_count": 87,
   "metadata": {
    "colab": {},
    "colab_type": "code",
    "id": "IfcaRO9-VqAX",
    "outputId": "0f132912-32bb-4196-c98c-abfbc4ad5a5f"
   },
   "outputs": [
    {
     "data": {
      "text/plain": [
       "{'1': 'Pirates of the Caribbean: On Stranger Tides (tt1298650)',\n",
       " '2': 'Gods and Generals (tt0279111)',\n",
       " '3': 'Winnie the Pooh (tt1449283)',\n",
       " '4': '110',\n",
       " '5': '107',\n",
       " '6': 'Avatar (tt0499549)',\n",
       " '7': 'The Lone Ranger (tt1210819)',\n",
       " '8': '1478',\n",
       " '9': 'The Dark Knight (tt0468569)',\n",
       " '10': 'The Lone Ranger (tt1210819)',\n",
       " '11': 'Drama',\n",
       " '12': 'Drama',\n",
       " '13': 'Peter Jackson',\n",
       " '14': 'Robert Rodriguez',\n",
       " '15': 'Chris Hemsworth',\n",
       " '16': 'Matt Damon',\n",
       " '17': 'Action',\n",
       " '18': 'K-19: The Widowmaker (tt0267626)',\n",
       " '19': '2015',\n",
       " '20': '2014',\n",
       " '21': 'Сентябрь',\n",
       " '22': '450',\n",
       " '23': 'Peter Jackson',\n",
       " '24': 'Four By Two Productions',\n",
       " '25': 'Midnight Picture Show',\n",
       " '26': 'Inside Out, The Dark Knight, 12 Years a Slave',\n",
       " '27': 'Daniel Radcliffe & Rupert Grint'}"
      ]
     },
     "execution_count": 87,
     "metadata": {},
     "output_type": "execute_result"
    }
   ],
   "source": [
    "# в конце можно посмотреть свои ответы к каждому вопросу\n",
    "answers"
   ]
  },
  {
   "cell_type": "code",
   "execution_count": 88,
   "metadata": {
    "colab": {},
    "colab_type": "code",
    "id": "SiRmHPl8VqAd"
   },
   "outputs": [
    {
     "data": {
      "text/plain": [
       "27"
      ]
     },
     "execution_count": 88,
     "metadata": {},
     "output_type": "execute_result"
    }
   ],
   "source": [
    "# и убедиться что ни чего не пропустил)\n",
    "len(answers)"
   ]
  },
  {
   "cell_type": "code",
   "execution_count": 0,
   "metadata": {
    "colab": {},
    "colab_type": "code",
    "id": "uCfuTkRbVqAg"
   },
   "outputs": [],
   "source": []
  },
  {
   "cell_type": "code",
   "execution_count": 0,
   "metadata": {
    "colab": {},
    "colab_type": "code",
    "id": "Vwx3NrkSVqAl"
   },
   "outputs": [],
   "source": []
  }
 ],
 "metadata": {
  "colab": {
   "name": "Copy of [SF-DST] Movies IMBD v4.1 TEMPLATE.ipynb",
   "provenance": []
  },
  "kernelspec": {
   "display_name": "Python 3",
   "language": "python",
   "name": "python3"
  },
  "language_info": {
   "codemirror_mode": {
    "name": "ipython",
    "version": 3
   },
   "file_extension": ".py",
   "mimetype": "text/x-python",
   "name": "python",
   "nbconvert_exporter": "python",
   "pygments_lexer": "ipython3",
   "version": "3.8.5"
  }
 },
 "nbformat": 4,
 "nbformat_minor": 1
}
