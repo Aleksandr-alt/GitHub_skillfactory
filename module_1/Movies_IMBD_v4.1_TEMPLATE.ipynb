{
 "cells": [
  {
   "cell_type": "code",
   "execution_count": 1,
   "metadata": {
    "_cell_guid": "b1076dfc-b9ad-4769-8c92-a6c4dae69d19",
    "_uuid": "8f2839f25d086af736a60e9eeb907d3b93b6e0e5",
    "colab": {},
    "colab_type": "code",
    "id": "U2D2gTdJVp90"
   },
   "outputs": [],
   "source": [
    "import numpy as np\n",
    "import pandas as pd\n",
    "import seaborn as sns\n",
    "import matplotlib.pyplot as plt\n",
    "from collections import Counter"
   ]
  },
  {
   "cell_type": "code",
   "execution_count": 0,
   "metadata": {
    "_cell_guid": "79c7e3d0-c299-4dcb-8224-4455121ee9b0",
    "_uuid": "d629ff2d2480ee46fbb7e2d37f6b5fab8052498a",
    "colab": {},
    "colab_type": "code",
    "id": "oyGfxL3eVp9-"
   },
   "outputs": [],
   "source": [
    "data = pd.read_csv('movie_bd_v5.csv')\n",
    "data.sample(5)"
   ]
  },
  {
   "cell_type": "code",
   "execution_count": 0,
   "metadata": {
    "colab": {},
    "colab_type": "code",
    "id": "CoYUnagMVp-C"
   },
   "outputs": [],
   "source": [
    "data.describe()"
   ]
  },
  {
   "cell_type": "markdown",
   "metadata": {
    "colab_type": "text",
    "id": "DTIt7ezGVp-G"
   },
   "source": [
    "# Предобработка"
   ]
  },
  {
   "cell_type": "code",
   "execution_count": 0,
   "metadata": {
    "colab": {},
    "colab_type": "code",
    "id": "jNb40DwKVp-H"
   },
   "outputs": [],
   "source": [
    "answers = {} # создадим словарь для ответов\n",
    "\n",
    "# тут другие ваши предобработки колонок например:\n",
    "\n",
    "#the time given in the dataset is in string format.\n",
    "#So we need to change this in datetime format\n",
    "\n",
    "import collections # Импортируем модуль для работы со счётчиками.\n",
    "\n",
    "def keep_month(s, d):\n",
    "    \"\"\"Функция делит строку на 2 части по разделителю и возвращает первую часть.\"\"\"\n",
    "    head, sep, tail = s.partition(d)\n",
    "    return head\n",
    "\n",
    "def count_symbol(s):\n",
    "    \"\"\"Функция считает количество символов в строке.\"\"\"\n",
    "    return len(s)\n",
    "\n",
    "def count_word(s):\n",
    "    \"\"\"Функция считает в строке количество слов, разделённых пробелом.\"\"\"\n",
    "    a = s.split(' ')\n",
    "    return len(a)\n",
    "\n",
    "data['profit'] = data['revenue'] - data['budget'] # Рассчитаем и добавим в таблицу столбец значений прибыли фильмов.\n",
    "count = collections.Counter() # Создаём словарь - счётчик."
   ]
  },
  {
   "cell_type": "markdown",
   "metadata": {
    "colab_type": "text",
    "id": "YxZaH-nPVp-L"
   },
   "source": [
    "# 1. У какого фильма из списка самый большой бюджет?"
   ]
  },
  {
   "cell_type": "markdown",
   "metadata": {
    "colab_type": "text",
    "id": "Nd-G5gX6Vp-M"
   },
   "source": [
    "Использовать варианты ответов в коде решения запрещено.    \n",
    "Вы думаете и в жизни у вас будут варианты ответов?)"
   ]
  },
  {
   "cell_type": "code",
   "execution_count": 0,
   "metadata": {
    "colab": {},
    "colab_type": "code",
    "id": "uVnXAY5RVp-O"
   },
   "outputs": [],
   "source": [
    "# в словарь вставляем номер вопроса и ваш ответ на него\n",
    "# Пример: \n",
    "answers['1'] = '2. Spider-Man 3 (tt0413300)'\n",
    "# запишите свой вариант ответа\n",
    "answers['1'] = 'Pirates of the Caribbean: On Stranger Tides (tt1298650)' # +\n",
    "# если ответили верно, можете добавить комментарий со значком \"+\""
   ]
  },
  {
   "cell_type": "code",
   "execution_count": 0,
   "metadata": {
    "colab": {},
    "colab_type": "code",
    "id": "dZwb3m28Vp-S"
   },
   "outputs": [],
   "source": [
    "# тут пишем ваш код для решения данного вопроса:\n",
    "print('Макс бюджет ', data.budget.max())\n",
    "df_max_budget = data[data['budget'] == data.budget.max()]['original_title'] # Находим min значение.\n",
    "print('Фильм с самым большим бюджетом ', df_max_budget.values[0])"
   ]
  },
  {
   "cell_type": "markdown",
   "metadata": {
    "colab_type": "text",
    "id": "K7L3nbRXVp-X"
   },
   "source": [
    "ВАРИАНТ 2"
   ]
  },
  {
   "cell_type": "code",
   "execution_count": 0,
   "metadata": {
    "colab": {},
    "colab_type": "code",
    "id": "OGaoQI7rVp-X"
   },
   "outputs": [],
   "source": [
    "# можно добавлять разные варианты решения"
   ]
  },
  {
   "cell_type": "markdown",
   "metadata": {
    "colab_type": "text",
    "id": "FNRbbI3vVp-c"
   },
   "source": [
    "# 2. Какой из фильмов самый длительный (в минутах)?"
   ]
  },
  {
   "cell_type": "code",
   "execution_count": 0,
   "metadata": {
    "colab": {},
    "colab_type": "code",
    "id": "vHAoEXNTVp-d"
   },
   "outputs": [],
   "source": [
    "# думаю логику работы с этим словарем вы уже поняли, \n",
    "# по этому не буду больше его дублировать\n",
    "answers['2'] = 'Gods and Generals (tt0279111)' # +"
   ]
  },
  {
   "cell_type": "code",
   "execution_count": 0,
   "metadata": {
    "colab": {},
    "colab_type": "code",
    "id": "ot-VX2XrVp-g"
   },
   "outputs": [],
   "source": [
    "# код для решения данного вопроса:\n",
    "print('Макс длительность ', data.runtime.max())\n",
    "df_max_runtime = data[data['runtime'] == data.runtime.max()]['original_title'] # Находим max значение.\n",
    "print('Самый длительный фильм ', df_max_runtime.values[0])"
   ]
  },
  {
   "cell_type": "markdown",
   "metadata": {
    "colab_type": "text",
    "id": "bapLlpW8Vp-k"
   },
   "source": [
    "# 3. Какой из фильмов самый короткий (в минутах)?\n",
    "\n",
    "\n",
    "\n"
   ]
  },
  {
   "cell_type": "code",
   "execution_count": 0,
   "metadata": {
    "colab": {},
    "colab_type": "code",
    "id": "YBxaSHuAVp-l"
   },
   "outputs": [],
   "source": [
    "answers['3'] = 'Winnie the Pooh (tt1449283)' # +\n",
    "\n",
    "# код для решения данного вопроса:\n",
    "print('Мин длительность ', data.runtime.min())\n",
    "df_min_runtime = data[data['runtime'] == data.runtime.min()]['original_title'] # Находим min значение..\n",
    "print('Самый короткий фильм ', df_min_runtime.values[0])"
   ]
  },
  {
   "cell_type": "markdown",
   "metadata": {
    "colab_type": "text",
    "id": "TfQbxbfNVp-p"
   },
   "source": [
    "# 4. Какова средняя длительность фильмов?\n"
   ]
  },
  {
   "cell_type": "code",
   "execution_count": null,
   "metadata": {
    "colab": {},
    "colab_type": "code",
    "id": "5K6dKZYVVp-q"
   },
   "outputs": [],
   "source": [
    "answers['4'] = '110' # +\n",
    "\n",
    "# код для решения данного вопроса:\n",
    "print('Средняя длительность фильмов ', round(data.runtime.mean(), 0)) # Находим значение."
   ]
  },
  {
   "cell_type": "markdown",
   "metadata": {
    "colab_type": "text",
    "id": "r5TvbnT_Vp-u"
   },
   "source": [
    "# 5. Каково медианное значение длительности фильмов? "
   ]
  },
  {
   "cell_type": "code",
   "execution_count": 0,
   "metadata": {
    "colab": {},
    "colab_type": "code",
    "id": "iBROplKnVp-v"
   },
   "outputs": [],
   "source": [
    "answers['5'] = '107' # +\n",
    "\n",
    "# код для решения данного вопроса:\n",
    "print('Медианное значение длительности фильмов ', round(data.runtime.median())) # Находим значение."
   ]
  },
  {
   "cell_type": "markdown",
   "metadata": {
    "colab_type": "text",
    "id": "39P-deDSVp-y"
   },
   "source": [
    "# 6. Какой самый прибыльный фильм?\n",
    "#### Внимание! Здесь и далее под «прибылью» или «убытками» понимается разность между сборами и бюджетом фильма. (прибыль = сборы - бюджет) в нашем датасете это будет (profit = revenue - budget) "
   ]
  },
  {
   "cell_type": "code",
   "execution_count": 0,
   "metadata": {
    "colab": {},
    "colab_type": "code",
    "id": "UYZh4T9WVp-y"
   },
   "outputs": [],
   "source": [
    "# лучше код получения столбца profit вынести в Предобработку что в начале\n",
    "answers['6'] = 'Avatar (tt0499549)' # +\n",
    "\n",
    "# код для решения данного вопроса:\n",
    "print('Макс прибыль ', data.profit.max())\n",
    "df_max_profit = data[data['profit'] == data.profit.max()]['original_title'] # Находим max значение.\n",
    "print('Самый прибыльный фильм ', df_max_profit.values[0])"
   ]
  },
  {
   "cell_type": "markdown",
   "metadata": {
    "colab_type": "text",
    "id": "M99JmIX4Vp-2"
   },
   "source": [
    "# 7. Какой фильм самый убыточный? "
   ]
  },
  {
   "cell_type": "code",
   "execution_count": 0,
   "metadata": {
    "colab": {},
    "colab_type": "code",
    "id": "w-D2m4XPVp-3"
   },
   "outputs": [],
   "source": [
    "answers['7'] = 'The Lone Ranger (tt1210819)' # +\n",
    "\n",
    "# код для решения данного вопроса:\n",
    "print('Мин прибыль ', data.profit.min())\n",
    "df_min_profit = data[data['profit'] == data.profit.min()]['original_title'] # Находим min значение.\n",
    "print('Самый убыточный фильм ', df_min_profit.values[0])"
   ]
  },
  {
   "cell_type": "markdown",
   "metadata": {
    "colab_type": "text",
    "id": "wEOM5ERVVp-6"
   },
   "source": [
    "# 8. У скольких фильмов из датасета объем сборов оказался выше бюджета?"
   ]
  },
  {
   "cell_type": "code",
   "execution_count": 0,
   "metadata": {
    "colab": {},
    "colab_type": "code",
    "id": "y00_7HD6Vp-7"
   },
   "outputs": [],
   "source": [
    "answers['8'] = '1478' # +\n",
    "\n",
    "# код для решения данного вопроса:\n",
    "print('Количество прибыльных фильмов', data[data['profit'] > 0].profit.count())"
   ]
  },
  {
   "cell_type": "markdown",
   "metadata": {
    "colab_type": "text",
    "id": "xhpspA9KVp_A"
   },
   "source": [
    "# 9. Какой фильм оказался самым кассовым в 2008 году?"
   ]
  },
  {
   "cell_type": "code",
   "execution_count": 0,
   "metadata": {
    "colab": {},
    "colab_type": "code",
    "id": "MoUyQr9RVp_B"
   },
   "outputs": [],
   "source": [
    "answers['9'] = 'The Dark Knight (tt0468569)' # +\n",
    "\n",
    "# код для решения данного вопроса:\n",
    "print('Самые большие сборы 2008 -', data[data['release_year'] == 2008]['revenue'].max())\n",
    "df_2008 = data[data['release_year'] == 2008] # Создадим таблицу фильмов 2008 года.\n",
    "df_max_revenue2008 = df_2008[df_2008['revenue'] == df_2008.revenue.max()]['original_title'] # Находим max значение.\n",
    "print('Самый кассовый фильм 2008 г. ', df_max_revenue2008.values[0])"
   ]
  },
  {
   "cell_type": "markdown",
   "metadata": {
    "colab_type": "text",
    "id": "Zi4hDKidVp_F"
   },
   "source": [
    "# 10. Самый убыточный фильм за период с 2012 по 2014 г. (включительно)?\n"
   ]
  },
  {
   "cell_type": "code",
   "execution_count": 0,
   "metadata": {
    "colab": {},
    "colab_type": "code",
    "id": "XqyRmufJVp_F"
   },
   "outputs": [],
   "source": [
    "answers['10'] = 'The Lone Ranger (tt1210819)' # +\n",
    "\n",
    "# код для решения данного вопроса:\n",
    "print('Самые большие убытки с 2012 по 2014 г. -', data.query('2012 <= release_year <= 2014').profit.min())\n",
    "df_2012_14 = data.query('2012 <= release_year <= 2014') # Создадим таблицу фильмов с 2012 по 2014 г.\n",
    "min_profit2012_14 = df_2012_14[df_2012_14['profit'] == df_2012_14.profit.min()]['original_title'] # Находим min значение.\n",
    "print('Самый убыточный фильм за период с 2012 по 2014 г. ', min_profit2012_14.values[0])"
   ]
  },
  {
   "cell_type": "markdown",
   "metadata": {
    "colab_type": "text",
    "id": "EA7Sa9dkVp_I"
   },
   "source": [
    "# 11. Какого жанра фильмов больше всего?"
   ]
  },
  {
   "cell_type": "code",
   "execution_count": 0,
   "metadata": {
    "colab": {},
    "colab_type": "code",
    "id": "zsJAwJ8QVp_J"
   },
   "outputs": [],
   "source": [
    "# эту задачу тоже можно решать разными подходами, попробуй реализовать разные варианты\n",
    "# если будешь добавлять функцию - выноси ее в предобработку что в начале\n",
    "answers['11'] = 'Drama' # +\n",
    "\n",
    "# код для решения данного вопроса:\n",
    "# Первоначально я делал так, пока не понял, что это не правильно.\n",
    "\n",
    "# Создадим для каждого жанра таблицу фильмов, которые к нему относятся.\n",
    "\n",
    "df_Action = data[data.genres.str.contains(\"Action\")]\n",
    "df_Adventure = data[data.genres.str.contains(\"Adventure\")]\n",
    "df_Drama = data[data.genres.str.contains(\"Drama\")]\n",
    "df_Comedy = data[data.genres.str.contains(\"Comedy\")]\n",
    "df_Thriller = data[data.genres.str.contains(\"Thriller\")]\n",
    "\n",
    " # Узнаем количество фильмов в каждой таблице, выбираем нужный вариант.\n",
    "print(\"Action\", df_Action.genres.count())\n",
    "print(\"Adventure\", df_Adventure.genres.count()) \n",
    "print(\"Drama\", df_Drama.genres.count())\n",
    "print(\"Comedy\", df_Comedy.genres.count())\n",
    "print(\"Thriller\", df_Thriller.genres.count())\n"
   ]
  },
  {
   "cell_type": "markdown",
   "metadata": {
    "colab_type": "text",
    "id": "Ax6g2C8SVp_M"
   },
   "source": [
    "ВАРИАНТ 2"
   ]
  },
  {
   "cell_type": "code",
   "execution_count": 0,
   "metadata": {
    "colab": {},
    "colab_type": "code",
    "id": "otO3SbrSVp_N"
   },
   "outputs": [],
   "source": [
    "# код для решения данного вопроса:\n",
    "# Вариант, не использующий варианты ответов, среди которых есть правильный.\n",
    "\n",
    "new_data = data['genres'].str.split('|') # Создаём таблицу списков жанров.\n",
    "for lists in new_data: # Проходим по всем значениям.\n",
    "    for word in lists:\n",
    "        count[word] += 1 # Записываем в словарь.\n",
    "\n",
    "pop_genre = [k for k, v in count.items() if v == max(count.values())] # Находим максимальное значение.\n",
    "print(\"Самый популярный жанр - \", pop_genre[0])"
   ]
  },
  {
   "cell_type": "markdown",
   "metadata": {
    "colab_type": "text",
    "id": "T9_bPWpkVp_Q"
   },
   "source": [
    "# 12. Фильмы какого жанра чаще всего становятся прибыльными? "
   ]
  },
  {
   "cell_type": "code",
   "execution_count": 0,
   "metadata": {
    "colab": {},
    "colab_type": "code",
    "id": "Tmt8MaK1Vp_R"
   },
   "outputs": [],
   "source": [
    "answers['12'] = 'Drama' # +\n",
    "\n",
    "# код для решения данного вопроса: (не универсальный)\n",
    "# Поскольку формулировака данного вопроса была изменена, привожу в первом варианте ответ на первую.\n",
    "# Вопрос подразумевает сравнение относительных величин, то есть вероятность, что станет прибыльным.\n",
    "\n",
    "df_Action = data[data.genres.str.contains(\"Action\")]\n",
    "df_Adventure = data[data.genres.str.contains(\"Adventure\")]\n",
    "df_Drama = data[data.genres.str.contains(\"Drama\")]\n",
    "df_Comedy = data[data.genres.str.contains(\"Comedy\")]\n",
    "df_Thriller = data[data.genres.str.contains(\"Thriller\")]\n",
    "\n",
    "# Посчитаем количество прибыльных фильмов в каждой таблице и \n",
    "# отношение прибыльных фильмов к общему числу фильмов данного жанра.\n",
    "\n",
    "print('Количество прибыльных фильмов Action', \n",
    "      df_Action[df_Action['profit'] > 0].profit.count() / df_Action.genres.count(), \n",
    "      df_Action[df_Action['profit'] > 0].profit.count())\n",
    "print('Количество прибыльных фильмов Adventure', \n",
    "      df_Adventure[df_Adventure['profit'] > 0].profit.count() / df_Adventure.genres.count(), \n",
    "      df_Adventure[df_Adventure['profit'] > 0].profit.count())\n",
    "print('Количество прибыльных фильмов Drama', \n",
    "      df_Drama[df_Drama['profit'] > 0].profit.count() / df_Drama.genres.count(), \n",
    "      df_Drama[df_Drama['profit'] > 0].profit.count())\n",
    "print('Количество прибыльных фильмов Comedy', \n",
    "      df_Comedy[df_Comedy['profit'] > 0].profit.count() / df_Comedy.genres.count(), \n",
    "      df_Comedy[df_Comedy['profit'] > 0].profit.count())\n",
    "print('Количество прибыльных фильмов Thriller', \n",
    "      df_Thriller[df_Thriller['profit'] > 0].profit.count() / df_Thriller.genres.count(), \n",
    "      df_Thriller[df_Thriller['profit'] > 0].profit.count())\n",
    "# Ответ при данной постановке вопроса, оказался противоположным. (Adventure)"
   ]
  },
  {
   "cell_type": "code",
   "execution_count": null,
   "metadata": {},
   "outputs": [],
   "source": [
    "# 2 Вариант\n",
    "\n",
    "positive_film = data[data['profit'] > 0] # Создадим таблицу прибыльных фильмов.\n",
    "new_data = positive_film['genres'].str.split('|') # Создаём таблицу списков жанров.\n",
    "for lists in new_data:\n",
    "    for word in lists:\n",
    "        count[word] += 1\n",
    "\n",
    "pop_genre = [k for k, v in count.items() if v == max(count.values())] # Находим максимальное значение.\n",
    "print(\"Больше всего среди прибыльных жанр - \", pop_genre[0])"
   ]
  },
  {
   "cell_type": "markdown",
   "metadata": {
    "colab_type": "text",
    "id": "0F23bgsDVp_U"
   },
   "source": [
    "# 13. У какого режиссера самые большие суммарные кассовые сборы?"
   ]
  },
  {
   "cell_type": "code",
   "execution_count": 0,
   "metadata": {
    "colab": {},
    "colab_type": "code",
    "id": "K6Z3J8ygVp_X"
   },
   "outputs": [],
   "source": [
    "answers['13'] = 'Peter Jackson' # +\n",
    "\n",
    "# код для решения данного вопроса: (не универсальный)\n",
    "# Создадим для каждого режиссёра таблицу фильмов, которые к нему относятся.\n",
    "\n",
    "df_Spielberg = data[data.director.str.contains(\"Steven Spielberg\")]\n",
    "df_Nolan = data[data.director.str.contains(\"Christopher Nolan\")]\n",
    "df_Yates = data[data.director.str.contains(\"David Yates\")]\n",
    "df_Cameron = data[data.director.str.contains(\"James Cameron\")]\n",
    "df_Jackson = data[data.director.str.contains(\"Peter Jackson\")]\n",
    "\n",
    "# Узнаем у какого режиссёра самые большие суммарные кассовые сборы.\n",
    "\n",
    "print(\"Spielberg\", df_Spielberg.director.count(), \"; Сумма сборов\", df_Spielberg.revenue.sum())\n",
    "print(\"Nolan\", df_Nolan.director.count(), \"; Сумма сборов\", df_Nolan.revenue.sum()) \n",
    "print(\"Yates\", df_Yates.director.count(), \"; Сумма сборов\", df_Yates.revenue.sum())\n",
    "print(\"Cameron\", df_Cameron.director.count(), \"; Сумма сборов\", df_Cameron.revenue.sum())\n",
    "print(\"Jackson\", df_Jackson.director.count(), \"; Сумма сборов\", df_Jackson.revenue.sum())"
   ]
  },
  {
   "cell_type": "code",
   "execution_count": null,
   "metadata": {},
   "outputs": [],
   "source": [
    "# 2 Вариант\n",
    "\n",
    "grouped_df = data.groupby(['director']).sum() # Создадим таблицу сумм кассовых сборов каждого режиссёра.\n",
    "super_director = grouped_df.sort_values(['profit'],ascending=False)['profit'].index[0]\n",
    "print(\"Самые большие суммарные кассовые сборы у\", super_director)\n",
    "# Но если работа совместная, то непонятно каким образом рассчитывать сумму сборов."
   ]
  },
  {
   "cell_type": "markdown",
   "metadata": {
    "colab_type": "text",
    "id": "PsYC9FgRVp_a"
   },
   "source": [
    "# 14. Какой режисер снял больше всего фильмов в стиле Action?"
   ]
  },
  {
   "cell_type": "code",
   "execution_count": 0,
   "metadata": {
    "colab": {},
    "colab_type": "code",
    "id": "wd2M-wHeVp_b"
   },
   "outputs": [],
   "source": [
    "answers['14'] = 'Robert Rodriguez' # +\n",
    "\n",
    "# код для решения данного вопроса: (не универсальный)\n",
    "df_Action = data[data.genres.str.contains(\"Action\")] # Создадим таблицу фильмов, которые относятся к жанру Action.\n",
    "\n",
    "# Создадим для каждого режиссёра таблицу фильмов, которые к нему относятся в этом жанре.\n",
    "df_RidleyScott = df_Action[df_Action.director.str.contains(\"Ridley Scott\")]\n",
    "df_Ritchie = df_Action[df_Action.director.str.contains(\"Guy Ritchie\")]\n",
    "df_Rodriguez = df_Action[df_Action.director.str.contains(\"Robert Rodriguez\")]\n",
    "df_Tarantino = df_Action[df_Action.director.str.contains(\"Quentin Tarantino\")]\n",
    "df_TonyScott = df_Action[df_Action.director.str.contains(\"Tony Scott\")]\n",
    "\n",
    "print(\"Ridley Scott\", df_RidleyScott.director.count())\n",
    "print(\"Ritchie\", df_Ritchie.director.count()) \n",
    "print(\"Rodriguez\", df_Rodriguez.director.count())\n",
    "print(\"Tarantino\", df_Tarantino.director.count())\n",
    "print(\"Tony Scott\", df_TonyScott.director.count())"
   ]
  },
  {
   "cell_type": "code",
   "execution_count": null,
   "metadata": {},
   "outputs": [],
   "source": [
    "# 2 Вариант\n",
    "\n",
    "new_data = df_Action['director'].str.split('|') # Создаём таблицу списков режиссёров.\n",
    "for lists in new_data:\n",
    "    for word in lists:\n",
    "        count[word] += 1\n",
    "\n",
    "pop_director = [k for k, v in count.items() if v == max(count.values())] # Находим максимальное значение.\n",
    "print(\"Больше всего фильмов в стиле Action снял - \", pop_director[0]) "
   ]
  },
  {
   "cell_type": "markdown",
   "metadata": {
    "colab_type": "text",
    "id": "PQ0KciD7Vp_f"
   },
   "source": [
    "# 15. Фильмы с каким актером принесли самые высокие кассовые сборы в 2012 году? "
   ]
  },
  {
   "cell_type": "code",
   "execution_count": 0,
   "metadata": {
    "colab": {},
    "colab_type": "code",
    "id": "aga62oeKVp_g"
   },
   "outputs": [],
   "source": [
    "answers['15'] = 'Chris Hemsworth' # +\n",
    "\n",
    "# код для решения данного вопроса: (не универсальный)\n",
    "\n",
    "# Создадим для каждого актёра таблицу фильмов, которые к нему относятся в 2012 году.\n",
    "df_Cage = data[(data.cast.str.contains(\"Nicolas Cage\")) & (data.release_year == 2012)]\n",
    "print(\"Nicolas Cage \", df_Cage.revenue.sum())\n",
    "df_Hardy = data[(data.cast.str.contains(\"Tom Hardy\")) & (data.release_year == 2012)]\n",
    "print(\"Tom Hardy \", df_Hardy.revenue.sum())\n",
    "df_Hemsworth = data[(data.cast.str.contains(\"Chris Hemsworth\")) & (data.release_year == 2012)]\n",
    "print(\"Chris Hemsworth \", df_Hemsworth.revenue.sum())\n",
    "df_Sturgess = data[(data.cast.str.contains(\"Jim Sturgess\")) & (data.release_year == 2012)]\n",
    "print(\"Jim Sturgess \", df_Sturgess.revenue.sum())\n",
    "df_Stone = data[(data.cast.str.contains(\"Emma Stone\")) & (data.release_year == 2012)]\n",
    "print(\"Emma Stone \", df_Stone.revenue.sum())"
   ]
  },
  {
   "cell_type": "code",
   "execution_count": null,
   "metadata": {},
   "outputs": [],
   "source": [
    "# 2 Вариант\n",
    "\n",
    "new_2012 = data.query('release_year == 2012') # Создадим таблицу фильмов 2012 года.\n",
    "\n",
    "new_data = df_2012['cast'].str.split('|') # Создаём таблицу списков актёров.\n",
    "for lists in new_data:\n",
    "    for word in lists:\n",
    "        count[word] += 1\n",
    "\n",
    "value = 0\n",
    "value_dict = {} # Создадим словарь - счётчик для записи сумм сборов.\n",
    "for text in count.keys(): # Проходим по ключам - актёрам.\n",
    "    value = new_2012[new_2012.cast.str.contains(text)].revenue.sum() # Считаем сумму сборов.\n",
    "    value_dict[text] = value # Записываем в словарь.\n",
    "\n",
    "actor = [k for k, v in value_dict.items() if v == max(value_dict.values())]  # Находим максимальное значение.\n",
    "print(\"Фильмы с \", actor[0], \"принесли самые высокие кассовые сборы в 2012 году.\" )"
   ]
  },
  {
   "cell_type": "markdown",
   "metadata": {
    "colab_type": "text",
    "id": "mWHyyL7QVp_j"
   },
   "source": [
    "# 16. Какой актер снялся в большем количестве высокобюджетных фильмов?"
   ]
  },
  {
   "cell_type": "code",
   "execution_count": 0,
   "metadata": {
    "colab": {},
    "colab_type": "code",
    "id": "qQtmHKTFVp_k"
   },
   "outputs": [],
   "source": [
    "answers['16'] = 'Matt Damon' # +\n",
    "\n",
    "# код для решения данного вопроса: (не универсальный)\n",
    "large_budget = data[data.budget > data.budget.mean()] # Создадим таблицу высокобюджетных фильмов.\n",
    "\n",
    "# Создадим для каждого актёра таблицу фильмов, которые к нему относятся этой таблице.\n",
    "df_Cruise = large_budget[large_budget.cast.str.contains(\"Tom Cruise\")]\n",
    "print(\"Tom Cruise \", df_Cruise.original_title.count())\n",
    "df_Wahlberg = large_budget[large_budget.cast.str.contains(\"Mark Wahlberg\")]\n",
    "print(\"Mark Wahlberg \", df_Wahlberg.original_title.count())\n",
    "df_Damon = large_budget[large_budget.cast.str.contains(\"Matt Damon\")]\n",
    "print(\"Matt Damon \", df_Damon.original_title.count())\n",
    "df_Jolie = large_budget[large_budget.cast.str.contains(\"Angelina Jolie\")]\n",
    "print(\"Angelina Jolie \", df_Jolie.original_title.count())\n",
    "df_Sandler = large_budget[large_budget.cast.str.contains(\"Adam Sandler\")]\n",
    "print(\"Adam Sandler \", df_Sandler.original_title.count())"
   ]
  },
  {
   "cell_type": "code",
   "execution_count": null,
   "metadata": {},
   "outputs": [],
   "source": [
    "# 2 Вариант\n",
    "\n",
    "new_data = large_budget['cast'].str.split('|') # Создаём таблицу списков актёров высокобюджетных фильмов.\n",
    "for lists in new_data:\n",
    "    for word in lists:\n",
    "        count[word] += 1\n",
    "\n",
    "pop_cast_action = [k for k, v in count.items() if v == max(count.values())]  # Находим максимальное значение.\n",
    "print(pop_cast_action[0], \"снялся в большем количестве высокобюджетных фильмов\")"
   ]
  },
  {
   "cell_type": "markdown",
   "metadata": {
    "colab_type": "text",
    "id": "NIh6AaW5Vp_n"
   },
   "source": [
    "# 17. В фильмах какого жанра больше всего снимался Nicolas Cage? "
   ]
  },
  {
   "cell_type": "code",
   "execution_count": 0,
   "metadata": {
    "colab": {},
    "colab_type": "code",
    "id": "H74SJDIBVp_n"
   },
   "outputs": [],
   "source": [
    "answers['17'] = 'Action' # +\n",
    "\n",
    "# код для решения данного вопроса: (не универсальный)\n",
    "\n",
    "# Создадим для каждого жанра таблицу фильмов, в которых снимался Nicolas Cage.\n",
    "df_Drama = data[(data.genres.str.contains(\"Drama\")) & (data.cast.str.contains(\"Nicolas Cage\"))]\n",
    "df_Action = data[(data.genres.str.contains(\"Action\")) & (data.cast.str.contains(\"Nicolas Cage\"))]\n",
    "df_Thriller = data[(data.genres.str.contains(\"Thriller\")) & (data.cast.str.contains(\"Nicolas Cage\"))]\n",
    "df_Adventure = data[(data.genres.str.contains(\"Adventure\")) & (data.cast.str.contains(\"Nicolas Cage\"))]\n",
    "df_Crime = data[(data.genres.str.contains(\"Crime\")) & (data.cast.str.contains(\"Nicolas Cage\"))]\n",
    "\n",
    "print(\"Nicolas Cage(Drama) \", df_Drama.original_title.count())\n",
    "print(\"Nicolas Cage(Action) \", df_Action.original_title.count())\n",
    "print(\"Nicolas Cage(Thriller) \", df_Thriller.original_title.count())\n",
    "print(\"Nicolas Cage(Adventure) \", df_Adventure.original_title.count())\n",
    "print(\"Nicolas Cage(Crime) \", df_Crime.original_title.count())"
   ]
  },
  {
   "cell_type": "code",
   "execution_count": null,
   "metadata": {},
   "outputs": [],
   "source": [
    "# 2 Вариант\n",
    "# Составим таблицу фильмов Nicolas Cage\n",
    "data_Cage = data[data.cast.str.contains(\"Nicolas Cage\")]\n",
    "new_data = data_Cage['genres'].str.split('|') # Создаём таблицу жанров фильмов, в которых снимался Nicolas Cage.\n",
    "for lists in new_data:\n",
    "    for word in lists:\n",
    "        count[word] += 1\n",
    "\n",
    "max_Cage_genres = [k for k, v in count.items() if v == max(count.values())]  # Находим максимальное значение.\n",
    "print(\"В фильмах\", max_Cage_genres[0], \"больше всего снимался Nicolas Cage\")"
   ]
  },
  {
   "cell_type": "markdown",
   "metadata": {
    "colab_type": "text",
    "id": "RqOmPRfWVp_q"
   },
   "source": [
    "# 18. Самый убыточный фильм от Paramount Pictures"
   ]
  },
  {
   "cell_type": "code",
   "execution_count": 0,
   "metadata": {
    "colab": {},
    "colab_type": "code",
    "id": "9E_B0Y96Vp_r"
   },
   "outputs": [],
   "source": [
    "answers['18'] = 'K-19: The Widowmaker (tt0267626)' # +\n",
    "\n",
    "# код для решения данного вопроса:\n",
    "\n",
    "df_Paramount = data[data.production_companies.str.contains(\"Paramount Pictures\")] # Таблица фильмов от Paramount Pictures.\n",
    "loss_film = df_Paramount[df_Paramount['profit'] == df_Paramount.profit.min()]['original_title'] # Находим min значение.\n",
    "print(\"Самый убыточный фильм от Paramount Pictures: \", loss_film.values[0])"
   ]
  },
  {
   "cell_type": "markdown",
   "metadata": {
    "colab_type": "text",
    "id": "vS8Ur6ddVp_u"
   },
   "source": [
    "# 19. Какой год стал самым успешным по суммарным кассовым сборам?"
   ]
  },
  {
   "cell_type": "code",
   "execution_count": 0,
   "metadata": {
    "colab": {},
    "colab_type": "code",
    "id": "Dnbt4GdIVp_v"
   },
   "outputs": [],
   "source": [
    "answers['19'] = '2015' # +\n",
    "\n",
    "# код для решения данного вопроса:\n",
    "# Группируем по году и сборам, сортируем и находим индекс максимальной суммы.\n",
    "best_year = data.groupby(['release_year'])['revenue'].sum().sort_values(ascending=False).index[0]\n",
    "print(\"Самый успешный год по суммарным кассовым сборам\", best_year)"
   ]
  },
  {
   "cell_type": "markdown",
   "metadata": {
    "colab_type": "text",
    "id": "JAzJh4QAVp_z"
   },
   "source": [
    "# 20. Какой самый прибыльный год для студии Warner Bros?"
   ]
  },
  {
   "cell_type": "code",
   "execution_count": 0,
   "metadata": {
    "colab": {},
    "colab_type": "code",
    "id": "wgVu02DEVp_0"
   },
   "outputs": [],
   "source": [
    "answers['20'] = '2014' # +\n",
    "\n",
    "# код для решения данного вопроса:\n",
    "data_Warner = data[data.production_companies.str.contains(\"Warner Bros\")] # Находим фильмы студии Warner Bros.\n",
    "# Группируем по году и сборам, сортируем и находим индекс максимальной суммы.\n",
    "best_year_Warner = data_Warner.groupby(['release_year'])['profit'].sum().sort_values(ascending=False).index[0]\n",
    "print(\"Самый прибыльный год для студии Warner Bros - \", best_year_Warner)"
   ]
  },
  {
   "cell_type": "markdown",
   "metadata": {
    "colab_type": "text",
    "id": "8Im1S2HRVp_4"
   },
   "source": [
    "# 21. В каком месяце за все годы суммарно вышло больше всего фильмов?"
   ]
  },
  {
   "cell_type": "code",
   "execution_count": 0,
   "metadata": {
    "colab": {},
    "colab_type": "code",
    "id": "lev6TH7gVp_4"
   },
   "outputs": [],
   "source": [
    "answers['21'] = 'Сентябрь' # +\n",
    "\n",
    "# код для решения данного вопроса:\n",
    "# Применяем функцию keep_month к столбцу даты, чтобы остался только месяц. (из предобработки)\n",
    "data.release_date = data.release_date.apply(lambda x:keep_month(x, '/'))\n",
    "\n",
    "# Группируем по месцам и названиям, сортируем по убыванию и находим первое значение.\n",
    "best_month = data.groupby(['release_date'])['original_title'].count().sort_values(ascending=False).index[0]\n",
    "print(\"Больше всего фильмов вышло в \", best_month, \"месяце\")"
   ]
  },
  {
   "cell_type": "markdown",
   "metadata": {
    "colab_type": "text",
    "id": "uAJsZ_NeVp_7"
   },
   "source": [
    "# 22. Сколько суммарно вышло фильмов летом? (за июнь, июль, август)"
   ]
  },
  {
   "cell_type": "code",
   "execution_count": 0,
   "metadata": {
    "colab": {},
    "colab_type": "code",
    "id": "Aa-hEREoVp_8"
   },
   "outputs": [],
   "source": [
    "answers['22'] = '450' # +\n",
    "\n",
    "# код для решения данного вопроса:\n",
    "# Применяем функцию keep_month к столбцу даты, чтобы остался только месяц.\n",
    "data.release_date = data.release_date.apply(lambda x:keep_month(x, '/'))\n",
    "\n",
    "# Создадим таблицу фильмов, которые были выпущены в летние месяцы.\n",
    "summer_months = data.query('release_date == \"6\" or release_date == \"7\" or release_date == \"8\"')\n",
    "\n",
    "# Группируем по месцам и названиям, считаем и суммируем.\n",
    "count_summer_films = summer_months.groupby(['release_date'])['original_title'].count().sum()\n",
    "print(\"Всего фильмов вышло в летние месяцы - \", count_summer_films)"
   ]
  },
  {
   "cell_type": "markdown",
   "metadata": {
    "colab_type": "text",
    "id": "G94ppOY1VqAA"
   },
   "source": [
    "# 23. Для какого режиссера зима – самое продуктивное время года? "
   ]
  },
  {
   "cell_type": "code",
   "execution_count": 0,
   "metadata": {
    "colab": {},
    "colab_type": "code",
    "id": "RhNTsamuVqAB"
   },
   "outputs": [],
   "source": [
    "answers['23'] = 'Peter Jackson' # ?\n",
    "\n",
    "# код для решения данного вопроса:\n",
    "# Применяем функцию keep_month к столбцу даты, чтобы остался только месяц.\n",
    "data.release_date = data.release_date.apply(lambda x:keep_month(x, '/'))\n",
    "\n",
    "# Создадим таблицу фильмов, вышедших зимой.\n",
    "winter_months = data.query('release_date == \"12\" or release_date == \"1\" or release_date == \"2\"')\n",
    "\n",
    "new_data = winter_months['director'].str.split('|') # Создаём таблицу списков режиссёров для данной таблицы.\n",
    "for lists in new_data:\n",
    "    for word in lists:\n",
    "        count[word] += 1\n",
    "        \n",
    "best_winter_director = [k for k, v in count.items() if v == max(count.values())] # Находим максимальное значение.\n",
    "print(\"Для\", best_winter_director[0], \"зима — самое продуктивное время года.\")"
   ]
  },
  {
   "cell_type": "markdown",
   "metadata": {
    "colab_type": "text",
    "id": "RBo0JVjVVqAF"
   },
   "source": [
    "# 24. Какая студия дает самые длинные названия своим фильмам по количеству символов?"
   ]
  },
  {
   "cell_type": "code",
   "execution_count": 0,
   "metadata": {
    "colab": {},
    "colab_type": "code",
    "id": "QRGS8L0iVqAG"
   },
   "outputs": [],
   "source": [
    "answers['24'] = 'Four By Two Productions' # ?\n",
    "\n",
    "# код для решения данного вопроса:\n",
    "# Создадим таблицу где вместо названий будут количество символов в названии.\n",
    "data.original_title = data.original_title.apply(lambda x:count_symbol(x))\n",
    "\n",
    "companies = data['production_companies'].str.split('|')# Создадим словарь студий.\n",
    "for lists in companies:\n",
    "    for word in lists:\n",
    "        count[word] += 1 # Запишем в словарь.\n",
    "\n",
    "value = 0.0\n",
    "value_dict = {} # Создадим словарь студий и средних значний.\n",
    "for text in count.keys():\n",
    "    value = data[data.production_companies.str.contains(text)].original_title.mean() # Рассчитываем среднее.\n",
    "    value_dict[text] = value # Записывае в словарь студию и среднее значение.\n",
    "\n",
    "companie_max_simbol = [k for k, v in value_dict.items() if v == max(value_dict.values())] # Найдём максимальное значение.\n",
    "print(\"Студия \", companie_max_simbol[0], \"даёт самые длинные названия своим фильмам по количеству символов.\" )"
   ]
  },
  {
   "cell_type": "markdown",
   "metadata": {
    "colab_type": "text",
    "id": "9G0hbvR7VqAK"
   },
   "source": [
    "# 25. Описание фильмов какой студии в среднем самые длинные по количеству слов?"
   ]
  },
  {
   "cell_type": "code",
   "execution_count": 0,
   "metadata": {
    "colab": {},
    "colab_type": "code",
    "id": "Ge2GsLNxVqAK"
   },
   "outputs": [],
   "source": [
    "answers['25'] = 'Midnight Picture Show' # ?\n",
    "\n",
    "# код для решения данного вопроса:\n",
    "\n",
    "# Создадим таблицу где вместо описаний будут количество слов в описании.\n",
    "data.overview = data.overview.apply(lambda x:count_word(x))\n",
    "\n",
    "companies = data['production_companies'].str.split('|') # Создадим словарь студий.\n",
    "for lists in companies:\n",
    "    for word in lists:\n",
    "        count[word] += 1\n",
    "\n",
    "value = 0.0\n",
    "value_dict = {}# Создадим словарь студий и средних значний.\n",
    "for text in count.keys():\n",
    "    value = data[data.production_companies.str.contains(text)].overview.mean()\n",
    "    value_dict[text] = value\n",
    "\n",
    "companie_max_word = [k for k, v in value_dict.items() if v == max(value_dict.values())] # Найдём максимальное значение.\n",
    "print(\"Описания фильмов \", companie_max_word[0], \"в среднем самые длинные по количеству слов.\" )"
   ]
  },
  {
   "cell_type": "markdown",
   "metadata": {
    "colab_type": "text",
    "id": "FJ1AFt90VqAP"
   },
   "source": [
    "# 26. Какие фильмы входят в 1 процент лучших по рейтингу? \n",
    "по vote_average"
   ]
  },
  {
   "cell_type": "code",
   "execution_count": 0,
   "metadata": {
    "colab": {},
    "colab_type": "code",
    "id": "8qmJVq4CVqAQ"
   },
   "outputs": [],
   "source": [
    "answers['26'] = 'Inside Out, The Dark Knight, 12 Years a Slave' # ?\n",
    "\n",
    "# код для решения данного вопроса:\n",
    "\n",
    "# Необходимо найти фильмы количеством 1 процент от общего числа фильмов, \n",
    "# которые при этом занимают высшие позиции в рейтинге.\n",
    "\n",
    "# Отсортируем фильмы по рейтингу и посчитаем 1 процент верхних значений.\n",
    "data_rating = data['vote_average'].sort_values(ascending=False)\n",
    "\n",
    "# Сделаем выборку побольше, т.к. 7.8 это пограничный рейтинг, любой фильм с таким рейтингом, наверное, можно учитывать.\n",
    "data_small = data_rating.head(len(data) // 60)\n",
    "                                               \n",
    "# Для каждого значения индекса найдём название фильма.\n",
    "for i in data_small.index:\n",
    "    display(data.iloc[i]['original_title'])"
   ]
  },
  {
   "cell_type": "markdown",
   "metadata": {
    "colab_type": "text",
    "id": "MdXsUXbCVqAV"
   },
   "source": [
    "# 27. Какие актеры чаще всего снимаются в одном фильме вместе?\n"
   ]
  },
  {
   "cell_type": "markdown",
   "metadata": {
    "colab_type": "text",
    "id": "4ymnxEVoVqAW"
   },
   "source": [
    "ВАРИАНТ 2"
   ]
  },
  {
   "cell_type": "code",
   "execution_count": null,
   "metadata": {},
   "outputs": [],
   "source": [
    "answers['26'] = '   ' # ?\n",
    "\n",
    "# код для решения данного вопроса:"
   ]
  },
  {
   "cell_type": "markdown",
   "metadata": {
    "colab_type": "text",
    "id": "U0nONFnGVqAX"
   },
   "source": [
    "# Submission"
   ]
  },
  {
   "cell_type": "code",
   "execution_count": 0,
   "metadata": {
    "colab": {},
    "colab_type": "code",
    "id": "IfcaRO9-VqAX",
    "outputId": "0f132912-32bb-4196-c98c-abfbc4ad5a5f"
   },
   "outputs": [
    {
     "data": {
      "text/plain": [
       "{'1': '...', '2': '...'}"
      ]
     },
     "execution_count": 8,
     "metadata": {
      "tags": []
     },
     "output_type": "execute_result"
    }
   ],
   "source": [
    "# в конце можно посмотреть свои ответы к каждому вопросу\n",
    "answers"
   ]
  },
  {
   "cell_type": "code",
   "execution_count": 0,
   "metadata": {
    "colab": {},
    "colab_type": "code",
    "id": "SiRmHPl8VqAd"
   },
   "outputs": [],
   "source": [
    "# и убедиться что ни чего не пропустил)\n",
    "len(answers)"
   ]
  },
  {
   "cell_type": "code",
   "execution_count": 0,
   "metadata": {
    "colab": {},
    "colab_type": "code",
    "id": "uCfuTkRbVqAg"
   },
   "outputs": [],
   "source": []
  },
  {
   "cell_type": "code",
   "execution_count": 0,
   "metadata": {
    "colab": {},
    "colab_type": "code",
    "id": "Vwx3NrkSVqAl"
   },
   "outputs": [],
   "source": []
  }
 ],
 "metadata": {
  "colab": {
   "name": "Copy of [SF-DST] Movies IMBD v4.1 TEMPLATE.ipynb",
   "provenance": []
  },
  "kernelspec": {
   "display_name": "Python 3",
   "language": "python",
   "name": "python3"
  },
  "language_info": {
   "codemirror_mode": {
    "name": "ipython",
    "version": 3
   },
   "file_extension": ".py",
   "mimetype": "text/x-python",
   "name": "python",
   "nbconvert_exporter": "python",
   "pygments_lexer": "ipython3",
   "version": "3.8.5"
  }
 },
 "nbformat": 4,
 "nbformat_minor": 1
}
